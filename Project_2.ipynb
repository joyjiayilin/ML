{
  "cells": [
    {
      "cell_type": "markdown",
      "metadata": {
        "id": "0FZeFzTWzrrd"
      },
      "source": [
        "# Homework 2 - Classification\n",
        "\n",
        "In this exercise you will use scikit-learn, a popular machine learning package in python to train and tune a classifier. A particularly useful feature is that all classifiers (and linear models) are called using the same API, so it is easy to test between different models (see the sklearn-intro notebook for examples). So in this exercise we will a classification technique (logistic regression) that is representative of methods and challenges you will encounter when using any classification method.\n",
        "\n",
        "\n",
        "## Dataset 1\n",
        "The dataset you will be using is default of credit card clients Data Set.\n",
        "There are two data files: \"CreditDefault_training.csv\" and \"CreditDefault_Xtest.csv\"\n",
        "Both files have the following fields, except the label (\"default.payment.next.month\") which is not available in \"CreditDefault_Xtest.csv\"\n",
        "\n",
        "Features:\n",
        "\n",
        "1 - LIMIT_BAL:  Amount of the given credit (NT dollar): it includes both the individual consumer credit and his/her family (supplementary) credit. <br>\n",
        "2 - SEX: (1 = male; 2 = female) <br>\n",
        "3- EDUCATION: (six levels: 1,2,3,4,5,6) <br>\n",
        "4 - MARRIAGE: (1 = married; 2 = single; 3 = others) <br>\n",
        "5 - AGE <br>\n",
        "\n",
        "From \"PAY_1\" to \"PAY_6\": History of past payment (Repayment status: -2: Balance paid in full and no transactions this period; -1: Balance paid in full, but account has a positive balance at end of period due to recent transactions for which payment has not yet come due; 0: Customer paid the minimum due amount, but not the entire balance; 1 = payment delay for one month; 2 = payment delay for two months; . . .; 8 = payment delay for eight months; 9 = payment delay for nine months and above.)<br>\n",
        "6 - PAY_1: the repayment status in September, 2005 <br>\n",
        "7 - PAY_2: the repayment status in August, 2005 <br>\n",
        "...<br>\n",
        "11 - PAY_6: the repayment status in April, 2005 <br>\n",
        "\n",
        "From \"BILL_AMT1\" to \"BILL_AMT6\": Amount of bill statement (NT dollar).<br>\n",
        "12 - BILL_AMT1 : amount of bill statement in September, 2005<br>\n",
        "13 - BILL_AMT2 : amount of bill statement in August, 2005<br>\n",
        "...<br>\n",
        "17 - BILL_AMT6 : amount of bill statement in April, 2005<br>\n",
        "\n",
        "From \"PAY_AMT1\" to \"PAY_AMT6\": Amount of previous payment (NT dollar).<br>\n",
        "18 - PAY_AMT1 : amount paid in September, 2005<br>\n",
        "19 - PAY_AMT2 : amount paid in August, 2005<br>\n",
        "...<br>\n",
        "23 - PAY_AMT6 : amount paid in April, 2005<br>\n",
        "\n",
        "Target:\n",
        "\n",
        "default.payment.next.month: binary variable, whether default payment (Yes = 1, No = 0)\n",
        "\n",
        "\n",
        "Training dataset, \"CreditDefault_training.csv\", contains 3985 rows and 24 columns. This is the training set containing both of the features and the target.\n",
        "Test dataset, \"CreditDefault_Xtest.csv\", contains 1000 rows and 23 columns. This is the test set which only contains the features.\n",
        "\n",
        "Prediction task is to determine whether there's credit default for a person.\n",
        "\n"
      ]
    },
    {
      "cell_type": "code",
      "execution_count": null,
      "metadata": {
        "id": "ZOKRx3iKPoKk"
      },
      "outputs": [],
      "source": [
        "import numpy as np\n",
        "import pandas as pd\n",
        "from google.colab import files\n",
        "import io\n",
        "from sklearn.preprocessing import StandardScaler\n",
        "from sklearn.preprocessing import OneHotEncoder"
      ]
    },
    {
      "cell_type": "code",
      "source": [
        "uploaded = files.upload()"
      ],
      "metadata": {
        "colab": {
          "base_uri": "https://localhost:8080/",
          "height": 74
        },
        "id": "RbD6l-iHp2jm",
        "outputId": "9872b3c8-bf8e-4a56-a765-c28f8e0dd82c"
      },
      "execution_count": null,
      "outputs": [
        {
          "output_type": "display_data",
          "data": {
            "text/plain": [
              "<IPython.core.display.HTML object>"
            ],
            "text/html": [
              "\n",
              "     <input type=\"file\" id=\"files-b3632fc1-0ed8-4beb-8237-314c194b4f59\" name=\"files[]\" multiple disabled\n",
              "        style=\"border:none\" />\n",
              "     <output id=\"result-b3632fc1-0ed8-4beb-8237-314c194b4f59\">\n",
              "      Upload widget is only available when the cell has been executed in the\n",
              "      current browser session. Please rerun this cell to enable.\n",
              "      </output>\n",
              "      <script>// Copyright 2017 Google LLC\n",
              "//\n",
              "// Licensed under the Apache License, Version 2.0 (the \"License\");\n",
              "// you may not use this file except in compliance with the License.\n",
              "// You may obtain a copy of the License at\n",
              "//\n",
              "//      http://www.apache.org/licenses/LICENSE-2.0\n",
              "//\n",
              "// Unless required by applicable law or agreed to in writing, software\n",
              "// distributed under the License is distributed on an \"AS IS\" BASIS,\n",
              "// WITHOUT WARRANTIES OR CONDITIONS OF ANY KIND, either express or implied.\n",
              "// See the License for the specific language governing permissions and\n",
              "// limitations under the License.\n",
              "\n",
              "/**\n",
              " * @fileoverview Helpers for google.colab Python module.\n",
              " */\n",
              "(function(scope) {\n",
              "function span(text, styleAttributes = {}) {\n",
              "  const element = document.createElement('span');\n",
              "  element.textContent = text;\n",
              "  for (const key of Object.keys(styleAttributes)) {\n",
              "    element.style[key] = styleAttributes[key];\n",
              "  }\n",
              "  return element;\n",
              "}\n",
              "\n",
              "// Max number of bytes which will be uploaded at a time.\n",
              "const MAX_PAYLOAD_SIZE = 100 * 1024;\n",
              "\n",
              "function _uploadFiles(inputId, outputId) {\n",
              "  const steps = uploadFilesStep(inputId, outputId);\n",
              "  const outputElement = document.getElementById(outputId);\n",
              "  // Cache steps on the outputElement to make it available for the next call\n",
              "  // to uploadFilesContinue from Python.\n",
              "  outputElement.steps = steps;\n",
              "\n",
              "  return _uploadFilesContinue(outputId);\n",
              "}\n",
              "\n",
              "// This is roughly an async generator (not supported in the browser yet),\n",
              "// where there are multiple asynchronous steps and the Python side is going\n",
              "// to poll for completion of each step.\n",
              "// This uses a Promise to block the python side on completion of each step,\n",
              "// then passes the result of the previous step as the input to the next step.\n",
              "function _uploadFilesContinue(outputId) {\n",
              "  const outputElement = document.getElementById(outputId);\n",
              "  const steps = outputElement.steps;\n",
              "\n",
              "  const next = steps.next(outputElement.lastPromiseValue);\n",
              "  return Promise.resolve(next.value.promise).then((value) => {\n",
              "    // Cache the last promise value to make it available to the next\n",
              "    // step of the generator.\n",
              "    outputElement.lastPromiseValue = value;\n",
              "    return next.value.response;\n",
              "  });\n",
              "}\n",
              "\n",
              "/**\n",
              " * Generator function which is called between each async step of the upload\n",
              " * process.\n",
              " * @param {string} inputId Element ID of the input file picker element.\n",
              " * @param {string} outputId Element ID of the output display.\n",
              " * @return {!Iterable<!Object>} Iterable of next steps.\n",
              " */\n",
              "function* uploadFilesStep(inputId, outputId) {\n",
              "  const inputElement = document.getElementById(inputId);\n",
              "  inputElement.disabled = false;\n",
              "\n",
              "  const outputElement = document.getElementById(outputId);\n",
              "  outputElement.innerHTML = '';\n",
              "\n",
              "  const pickedPromise = new Promise((resolve) => {\n",
              "    inputElement.addEventListener('change', (e) => {\n",
              "      resolve(e.target.files);\n",
              "    });\n",
              "  });\n",
              "\n",
              "  const cancel = document.createElement('button');\n",
              "  inputElement.parentElement.appendChild(cancel);\n",
              "  cancel.textContent = 'Cancel upload';\n",
              "  const cancelPromise = new Promise((resolve) => {\n",
              "    cancel.onclick = () => {\n",
              "      resolve(null);\n",
              "    };\n",
              "  });\n",
              "\n",
              "  // Wait for the user to pick the files.\n",
              "  const files = yield {\n",
              "    promise: Promise.race([pickedPromise, cancelPromise]),\n",
              "    response: {\n",
              "      action: 'starting',\n",
              "    }\n",
              "  };\n",
              "\n",
              "  cancel.remove();\n",
              "\n",
              "  // Disable the input element since further picks are not allowed.\n",
              "  inputElement.disabled = true;\n",
              "\n",
              "  if (!files) {\n",
              "    return {\n",
              "      response: {\n",
              "        action: 'complete',\n",
              "      }\n",
              "    };\n",
              "  }\n",
              "\n",
              "  for (const file of files) {\n",
              "    const li = document.createElement('li');\n",
              "    li.append(span(file.name, {fontWeight: 'bold'}));\n",
              "    li.append(span(\n",
              "        `(${file.type || 'n/a'}) - ${file.size} bytes, ` +\n",
              "        `last modified: ${\n",
              "            file.lastModifiedDate ? file.lastModifiedDate.toLocaleDateString() :\n",
              "                                    'n/a'} - `));\n",
              "    const percent = span('0% done');\n",
              "    li.appendChild(percent);\n",
              "\n",
              "    outputElement.appendChild(li);\n",
              "\n",
              "    const fileDataPromise = new Promise((resolve) => {\n",
              "      const reader = new FileReader();\n",
              "      reader.onload = (e) => {\n",
              "        resolve(e.target.result);\n",
              "      };\n",
              "      reader.readAsArrayBuffer(file);\n",
              "    });\n",
              "    // Wait for the data to be ready.\n",
              "    let fileData = yield {\n",
              "      promise: fileDataPromise,\n",
              "      response: {\n",
              "        action: 'continue',\n",
              "      }\n",
              "    };\n",
              "\n",
              "    // Use a chunked sending to avoid message size limits. See b/62115660.\n",
              "    let position = 0;\n",
              "    do {\n",
              "      const length = Math.min(fileData.byteLength - position, MAX_PAYLOAD_SIZE);\n",
              "      const chunk = new Uint8Array(fileData, position, length);\n",
              "      position += length;\n",
              "\n",
              "      const base64 = btoa(String.fromCharCode.apply(null, chunk));\n",
              "      yield {\n",
              "        response: {\n",
              "          action: 'append',\n",
              "          file: file.name,\n",
              "          data: base64,\n",
              "        },\n",
              "      };\n",
              "\n",
              "      let percentDone = fileData.byteLength === 0 ?\n",
              "          100 :\n",
              "          Math.round((position / fileData.byteLength) * 100);\n",
              "      percent.textContent = `${percentDone}% done`;\n",
              "\n",
              "    } while (position < fileData.byteLength);\n",
              "  }\n",
              "\n",
              "  // All done.\n",
              "  yield {\n",
              "    response: {\n",
              "      action: 'complete',\n",
              "    }\n",
              "  };\n",
              "}\n",
              "\n",
              "scope.google = scope.google || {};\n",
              "scope.google.colab = scope.google.colab || {};\n",
              "scope.google.colab._files = {\n",
              "  _uploadFiles,\n",
              "  _uploadFilesContinue,\n",
              "};\n",
              "})(self);\n",
              "</script> "
            ]
          },
          "metadata": {}
        },
        {
          "output_type": "stream",
          "name": "stdout",
          "text": [
            "Saving CreditDefault_training.csv to CreditDefault_training.csv\n"
          ]
        }
      ]
    },
    {
      "cell_type": "code",
      "execution_count": null,
      "metadata": {
        "id": "wLUGs9kXQDDG"
      },
      "outputs": [],
      "source": [
        "# Load your training data set\n",
        "df_train = pd.read_csv(io.BytesIO(uploaded['CreditDefault_training.csv']))"
      ]
    },
    {
      "cell_type": "code",
      "execution_count": null,
      "metadata": {
        "id": "LYPHIV6FSUI2"
      },
      "outputs": [],
      "source": [
        "# Split training data into X and y\n",
        "X = df_train.drop(columns=['default.payment.next.month'])\n",
        "y = df_train['default.payment.next.month']"
      ]
    },
    {
      "cell_type": "markdown",
      "metadata": {
        "id": "YjyP9oUHTmo5"
      },
      "source": [
        "## Standardization and One-hot Encoding\n",
        "\n",
        "Standardize the continuous features and convert categorical variables ('SEX', 'EDUCATION', 'MARRIAGE', 'PAY_1', 'PAY_2', 'PAY_3', 'PAY_4', 'PAY_5', 'PAY_6') into dummy variables.<br>\n",
        "Note the situation where not all repayment status categories (-2, -1, 0, 1, 2, 3, 4, 5, 6, 7, 8, 9) necessarily appear in the training dataset for variables 'PAY_1', 'PAY_2', 'PAY_3', 'PAY_4', 'PAY_5', 'PAY_6'."
      ]
    },
    {
      "cell_type": "markdown",
      "metadata": {
        "id": "Uj3pFsrv_mv9"
      },
      "source": [
        "Standardization and one-hot encoding for training set and test set"
      ]
    },
    {
      "cell_type": "code",
      "source": [
        "uploaded = files.upload()"
      ],
      "metadata": {
        "colab": {
          "base_uri": "https://localhost:8080/",
          "height": 74
        },
        "id": "6dERlNv4yOaC",
        "outputId": "83ef8bdc-0cac-4691-c5a5-87dbbc45df2b"
      },
      "execution_count": null,
      "outputs": [
        {
          "output_type": "display_data",
          "data": {
            "text/plain": [
              "<IPython.core.display.HTML object>"
            ],
            "text/html": [
              "\n",
              "     <input type=\"file\" id=\"files-42de1673-3dc8-4331-997a-163cad4de724\" name=\"files[]\" multiple disabled\n",
              "        style=\"border:none\" />\n",
              "     <output id=\"result-42de1673-3dc8-4331-997a-163cad4de724\">\n",
              "      Upload widget is only available when the cell has been executed in the\n",
              "      current browser session. Please rerun this cell to enable.\n",
              "      </output>\n",
              "      <script>// Copyright 2017 Google LLC\n",
              "//\n",
              "// Licensed under the Apache License, Version 2.0 (the \"License\");\n",
              "// you may not use this file except in compliance with the License.\n",
              "// You may obtain a copy of the License at\n",
              "//\n",
              "//      http://www.apache.org/licenses/LICENSE-2.0\n",
              "//\n",
              "// Unless required by applicable law or agreed to in writing, software\n",
              "// distributed under the License is distributed on an \"AS IS\" BASIS,\n",
              "// WITHOUT WARRANTIES OR CONDITIONS OF ANY KIND, either express or implied.\n",
              "// See the License for the specific language governing permissions and\n",
              "// limitations under the License.\n",
              "\n",
              "/**\n",
              " * @fileoverview Helpers for google.colab Python module.\n",
              " */\n",
              "(function(scope) {\n",
              "function span(text, styleAttributes = {}) {\n",
              "  const element = document.createElement('span');\n",
              "  element.textContent = text;\n",
              "  for (const key of Object.keys(styleAttributes)) {\n",
              "    element.style[key] = styleAttributes[key];\n",
              "  }\n",
              "  return element;\n",
              "}\n",
              "\n",
              "// Max number of bytes which will be uploaded at a time.\n",
              "const MAX_PAYLOAD_SIZE = 100 * 1024;\n",
              "\n",
              "function _uploadFiles(inputId, outputId) {\n",
              "  const steps = uploadFilesStep(inputId, outputId);\n",
              "  const outputElement = document.getElementById(outputId);\n",
              "  // Cache steps on the outputElement to make it available for the next call\n",
              "  // to uploadFilesContinue from Python.\n",
              "  outputElement.steps = steps;\n",
              "\n",
              "  return _uploadFilesContinue(outputId);\n",
              "}\n",
              "\n",
              "// This is roughly an async generator (not supported in the browser yet),\n",
              "// where there are multiple asynchronous steps and the Python side is going\n",
              "// to poll for completion of each step.\n",
              "// This uses a Promise to block the python side on completion of each step,\n",
              "// then passes the result of the previous step as the input to the next step.\n",
              "function _uploadFilesContinue(outputId) {\n",
              "  const outputElement = document.getElementById(outputId);\n",
              "  const steps = outputElement.steps;\n",
              "\n",
              "  const next = steps.next(outputElement.lastPromiseValue);\n",
              "  return Promise.resolve(next.value.promise).then((value) => {\n",
              "    // Cache the last promise value to make it available to the next\n",
              "    // step of the generator.\n",
              "    outputElement.lastPromiseValue = value;\n",
              "    return next.value.response;\n",
              "  });\n",
              "}\n",
              "\n",
              "/**\n",
              " * Generator function which is called between each async step of the upload\n",
              " * process.\n",
              " * @param {string} inputId Element ID of the input file picker element.\n",
              " * @param {string} outputId Element ID of the output display.\n",
              " * @return {!Iterable<!Object>} Iterable of next steps.\n",
              " */\n",
              "function* uploadFilesStep(inputId, outputId) {\n",
              "  const inputElement = document.getElementById(inputId);\n",
              "  inputElement.disabled = false;\n",
              "\n",
              "  const outputElement = document.getElementById(outputId);\n",
              "  outputElement.innerHTML = '';\n",
              "\n",
              "  const pickedPromise = new Promise((resolve) => {\n",
              "    inputElement.addEventListener('change', (e) => {\n",
              "      resolve(e.target.files);\n",
              "    });\n",
              "  });\n",
              "\n",
              "  const cancel = document.createElement('button');\n",
              "  inputElement.parentElement.appendChild(cancel);\n",
              "  cancel.textContent = 'Cancel upload';\n",
              "  const cancelPromise = new Promise((resolve) => {\n",
              "    cancel.onclick = () => {\n",
              "      resolve(null);\n",
              "    };\n",
              "  });\n",
              "\n",
              "  // Wait for the user to pick the files.\n",
              "  const files = yield {\n",
              "    promise: Promise.race([pickedPromise, cancelPromise]),\n",
              "    response: {\n",
              "      action: 'starting',\n",
              "    }\n",
              "  };\n",
              "\n",
              "  cancel.remove();\n",
              "\n",
              "  // Disable the input element since further picks are not allowed.\n",
              "  inputElement.disabled = true;\n",
              "\n",
              "  if (!files) {\n",
              "    return {\n",
              "      response: {\n",
              "        action: 'complete',\n",
              "      }\n",
              "    };\n",
              "  }\n",
              "\n",
              "  for (const file of files) {\n",
              "    const li = document.createElement('li');\n",
              "    li.append(span(file.name, {fontWeight: 'bold'}));\n",
              "    li.append(span(\n",
              "        `(${file.type || 'n/a'}) - ${file.size} bytes, ` +\n",
              "        `last modified: ${\n",
              "            file.lastModifiedDate ? file.lastModifiedDate.toLocaleDateString() :\n",
              "                                    'n/a'} - `));\n",
              "    const percent = span('0% done');\n",
              "    li.appendChild(percent);\n",
              "\n",
              "    outputElement.appendChild(li);\n",
              "\n",
              "    const fileDataPromise = new Promise((resolve) => {\n",
              "      const reader = new FileReader();\n",
              "      reader.onload = (e) => {\n",
              "        resolve(e.target.result);\n",
              "      };\n",
              "      reader.readAsArrayBuffer(file);\n",
              "    });\n",
              "    // Wait for the data to be ready.\n",
              "    let fileData = yield {\n",
              "      promise: fileDataPromise,\n",
              "      response: {\n",
              "        action: 'continue',\n",
              "      }\n",
              "    };\n",
              "\n",
              "    // Use a chunked sending to avoid message size limits. See b/62115660.\n",
              "    let position = 0;\n",
              "    do {\n",
              "      const length = Math.min(fileData.byteLength - position, MAX_PAYLOAD_SIZE);\n",
              "      const chunk = new Uint8Array(fileData, position, length);\n",
              "      position += length;\n",
              "\n",
              "      const base64 = btoa(String.fromCharCode.apply(null, chunk));\n",
              "      yield {\n",
              "        response: {\n",
              "          action: 'append',\n",
              "          file: file.name,\n",
              "          data: base64,\n",
              "        },\n",
              "      };\n",
              "\n",
              "      let percentDone = fileData.byteLength === 0 ?\n",
              "          100 :\n",
              "          Math.round((position / fileData.byteLength) * 100);\n",
              "      percent.textContent = `${percentDone}% done`;\n",
              "\n",
              "    } while (position < fileData.byteLength);\n",
              "  }\n",
              "\n",
              "  // All done.\n",
              "  yield {\n",
              "    response: {\n",
              "      action: 'complete',\n",
              "    }\n",
              "  };\n",
              "}\n",
              "\n",
              "scope.google = scope.google || {};\n",
              "scope.google.colab = scope.google.colab || {};\n",
              "scope.google.colab._files = {\n",
              "  _uploadFiles,\n",
              "  _uploadFilesContinue,\n",
              "};\n",
              "})(self);\n",
              "</script> "
            ]
          },
          "metadata": {}
        },
        {
          "output_type": "stream",
          "name": "stdout",
          "text": [
            "Saving CreditDefault_Xtest.csv to CreditDefault_Xtest.csv\n"
          ]
        }
      ]
    },
    {
      "cell_type": "code",
      "execution_count": null,
      "metadata": {
        "id": "zPKfTRyiKueh"
      },
      "outputs": [],
      "source": [
        "# Load test data set\n",
        "df_test = pd.read_csv(io.BytesIO(uploaded['CreditDefault_Xtest.csv']))"
      ]
    },
    {
      "cell_type": "code",
      "execution_count": null,
      "metadata": {
        "id": "dOrWKfdlK-_z",
        "colab": {
          "base_uri": "https://localhost:8080/"
        },
        "outputId": "14e8231b-f822-4f34-8d20-1bfa29217e38"
      },
      "outputs": [
        {
          "output_type": "stream",
          "name": "stderr",
          "text": [
            "/usr/local/lib/python3.10/dist-packages/sklearn/preprocessing/_encoders.py:868: FutureWarning: `sparse` was renamed to `sparse_output` in version 1.2 and will be removed in 1.4. `sparse_output` is ignored unless you leave `sparse` to its default value.\n",
            "  warnings.warn(\n",
            "/usr/local/lib/python3.10/dist-packages/sklearn/preprocessing/_encoders.py:868: FutureWarning: `sparse` was renamed to `sparse_output` in version 1.2 and will be removed in 1.4. `sparse_output` is ignored unless you leave `sparse` to its default value.\n",
            "  warnings.warn(\n"
          ]
        }
      ],
      "source": [
        "#standardization and one-hot encoding\n",
        "\n",
        "# train data set\n",
        "\n",
        "# select continuous features\n",
        "continuous_features = df_train.drop(columns=['SEX', 'EDUCATION', 'MARRIAGE', 'PAY_1', 'PAY_2', 'PAY_3', 'PAY_4', 'PAY_5', 'PAY_6', 'default.payment.next.month'])\n",
        "\n",
        "# apply StandardScaler\n",
        "scaler = StandardScaler()\n",
        "continuous_scaled = scaler.fit_transform(continuous_features)\n",
        "\n",
        "# convert into df\n",
        "standardized_train = pd.DataFrame(continuous_scaled, columns=continuous_features.columns)\n",
        "\n",
        "# select categorical variables\n",
        "categorical_variables_1 = df_train[['SEX', 'EDUCATION', 'MARRIAGE']]\n",
        "categorical_col_2 = ['PAY_1', 'PAY_2', 'PAY_3', 'PAY_4', 'PAY_5', 'PAY_6']\n",
        "categorical_variables_2 = df_train[categorical_col_2]\n",
        "\n",
        "# apply OneHotEncoder\n",
        "encoder_1 = OneHotEncoder(sparse=False)\n",
        "categorical_encoded_1 = encoder_1.fit_transform(categorical_variables_1)\n",
        "\n",
        "categories = [-2, -1, 0, 1, 2, 3, 4, 5, 6, 7, 8, 9]\n",
        "categories_dict = {col: categories for col in categorical_col_2}\n",
        "encoder_2 = OneHotEncoder(categories=[categories_dict[col] for col in categorical_col_2], sparse=False)\n",
        "encoder_2.fit(categorical_variables_2)\n",
        "categorical_encoded_2 = encoder_2.transform(categorical_variables_2)\n",
        "\n",
        "# convert into df\n",
        "encoded_train_dummy_1 = pd.DataFrame(categorical_encoded_1, columns=encoder_1.get_feature_names_out(categorical_variables_1.columns))\n",
        "encoded_train_dummy_2 = pd.DataFrame(categorical_encoded_2, columns=encoder_2.get_feature_names_out(categorical_variables_2.columns))\n",
        "\n",
        "# combine df\n",
        "encoded_train = pd.concat([standardized_train, encoded_train_dummy_1, encoded_train_dummy_2], axis = 1)"
      ]
    },
    {
      "cell_type": "code",
      "source": [
        "#standardization and one-hot encoding\n",
        "\n",
        "# test data set\n",
        "\n",
        "# select continuous features\n",
        "continuous_features = df_test.drop(columns=['SEX', 'EDUCATION', 'MARRIAGE', 'PAY_1', 'PAY_2', 'PAY_3', 'PAY_4', 'PAY_5', 'PAY_6'])\n",
        "\n",
        "# apply StandardScaler\n",
        "scaler = StandardScaler()\n",
        "continuous_scaled = scaler.fit_transform(continuous_features)\n",
        "\n",
        "# convert into df\n",
        "standardized_test = pd.DataFrame(continuous_scaled, columns=continuous_features.columns)\n",
        "\n",
        "# select categorical variables\n",
        "categorical_variables_1 = df_test[['SEX', 'EDUCATION', 'MARRIAGE']]\n",
        "categorical_col_2 = ['PAY_1', 'PAY_2', 'PAY_3', 'PAY_4', 'PAY_5', 'PAY_6']\n",
        "categorical_variables_2 = df_test[categorical_col_2]\n",
        "\n",
        "# apply OneHotEncoder\n",
        "encoder_1 = OneHotEncoder(sparse=False)\n",
        "categorical_encoded_1 = encoder_1.fit_transform(categorical_variables_1)\n",
        "\n",
        "categories = [-2, -1, 0, 1, 2, 3, 4, 5, 6, 7, 8, 9]\n",
        "categories_dict = {col: categories for col in categorical_col_2}\n",
        "encoder_2 = OneHotEncoder(categories=[categories_dict[col] for col in categorical_col_2], sparse=False)\n",
        "encoder_2.fit(categorical_variables_2)\n",
        "categorical_encoded_2 = encoder_2.transform(categorical_variables_2)\n",
        "\n",
        "# convert into df\n",
        "encoded_test_dummy_1 = pd.DataFrame(categorical_encoded_1, columns=encoder_1.get_feature_names_out(categorical_variables_1.columns))\n",
        "encoded_test_dummy_2 = pd.DataFrame(categorical_encoded_2, columns=encoder_2.get_feature_names_out(categorical_variables_2.columns))\n",
        "\n",
        "# combine df\n",
        "encoded_test = pd.concat([standardized_test, encoded_test_dummy_1, encoded_test_dummy_2], axis = 1)"
      ],
      "metadata": {
        "colab": {
          "base_uri": "https://localhost:8080/"
        },
        "id": "Q78wKGJRf1ND",
        "outputId": "8df58331-1ed7-4cfa-c362-9931a5a55384"
      },
      "execution_count": null,
      "outputs": [
        {
          "output_type": "stream",
          "name": "stderr",
          "text": [
            "/usr/local/lib/python3.10/dist-packages/sklearn/preprocessing/_encoders.py:868: FutureWarning: `sparse` was renamed to `sparse_output` in version 1.2 and will be removed in 1.4. `sparse_output` is ignored unless you leave `sparse` to its default value.\n",
            "  warnings.warn(\n",
            "/usr/local/lib/python3.10/dist-packages/sklearn/preprocessing/_encoders.py:868: FutureWarning: `sparse` was renamed to `sparse_output` in version 1.2 and will be removed in 1.4. `sparse_output` is ignored unless you leave `sparse` to its default value.\n",
            "  warnings.warn(\n"
          ]
        }
      ]
    },
    {
      "cell_type": "code",
      "source": [
        "print(encoded_train.shape)\n",
        "print(encoded_test.shape)"
      ],
      "metadata": {
        "colab": {
          "base_uri": "https://localhost:8080/"
        },
        "id": "C4dyXa3s_Hms",
        "outputId": "3a6cecfb-c47a-477e-9d74-cc0a5ce157d0"
      },
      "execution_count": null,
      "outputs": [
        {
          "output_type": "stream",
          "name": "stdout",
          "text": [
            "(3985, 97)\n",
            "(1000, 97)\n"
          ]
        }
      ]
    },
    {
      "cell_type": "markdown",
      "metadata": {
        "id": "D_e0eeNz55Cg"
      },
      "source": [
        "**Splitting training data into training and validation set (70:30 ratio) (the code has been provided)**"
      ]
    },
    {
      "cell_type": "code",
      "execution_count": null,
      "metadata": {
        "id": "dveoLnWM7mt4"
      },
      "outputs": [],
      "source": [
        "from sklearn.model_selection import train_test_split\n",
        "X_train, X_val, y_train, y_val = train_test_split(encoded_train, y, test_size=0.3, random_state=42)"
      ]
    },
    {
      "cell_type": "markdown",
      "metadata": {
        "id": "-BteEz3T83c7"
      },
      "source": [
        "Print the shape of X_train, y_train, X_val"
      ]
    },
    {
      "cell_type": "code",
      "execution_count": null,
      "metadata": {
        "id": "IAmEc8hJ86sF",
        "colab": {
          "base_uri": "https://localhost:8080/"
        },
        "outputId": "a74c8553-2228-4d21-f6de-5fb8380da8b1"
      },
      "outputs": [
        {
          "output_type": "stream",
          "name": "stdout",
          "text": [
            "Shape of X_train:  (2789, 97)\n"
          ]
        }
      ],
      "source": [
        "print(\"Shape of X_train: \", X_train.shape)"
      ]
    },
    {
      "cell_type": "code",
      "source": [
        "print(\"Shape of y_train: \", y_train.shape)"
      ],
      "metadata": {
        "colab": {
          "base_uri": "https://localhost:8080/"
        },
        "id": "IVsje9ij5lro",
        "outputId": "f77994ba-3423-45c6-d74c-ee418016634f"
      },
      "execution_count": null,
      "outputs": [
        {
          "output_type": "stream",
          "name": "stdout",
          "text": [
            "Shape of y_train:  (2789,)\n"
          ]
        }
      ]
    },
    {
      "cell_type": "code",
      "source": [
        "print(\"Shape of X_val: \", X_val.shape)"
      ],
      "metadata": {
        "colab": {
          "base_uri": "https://localhost:8080/"
        },
        "id": "86NLb8Nv5n24",
        "outputId": "db08e067-88c3-4c0c-d69b-3ed23930475c"
      },
      "execution_count": null,
      "outputs": [
        {
          "output_type": "stream",
          "name": "stdout",
          "text": [
            "Shape of X_val:  (1196, 97)\n"
          ]
        }
      ]
    },
    {
      "cell_type": "code",
      "source": [
        "print(\"Shape of y_val: \", y_val.shape)"
      ],
      "metadata": {
        "colab": {
          "base_uri": "https://localhost:8080/"
        },
        "id": "ZAzIhjzBDxDj",
        "outputId": "92de277a-fc06-4515-a639-32590ab0d899"
      },
      "execution_count": null,
      "outputs": [
        {
          "output_type": "stream",
          "name": "stdout",
          "text": [
            "Shape of y_val:  (1196,)\n"
          ]
        }
      ]
    },
    {
      "cell_type": "markdown",
      "metadata": {
        "id": "6D2n5k-L-BrM"
      },
      "source": [
        "## Logistic Regression\n",
        "\n",
        "As previously mentioned, the scikit-learn classification API makes it easy to train a classifier.\n",
        "\n",
        "\n",
        "Use LogisticRegression from sklearn.linear_model to make a logistic regression classifier."
      ]
    },
    {
      "cell_type": "code",
      "execution_count": null,
      "metadata": {
        "id": "NNJEfTx8-Mqj"
      },
      "outputs": [],
      "source": [
        "from sklearn.linear_model import LogisticRegression"
      ]
    },
    {
      "cell_type": "code",
      "execution_count": null,
      "metadata": {
        "id": "236FjZN8-S8x",
        "colab": {
          "base_uri": "https://localhost:8080/",
          "height": 218
        },
        "outputId": "43a589ed-61d2-4242-98cf-67e389b7bf8d"
      },
      "outputs": [
        {
          "output_type": "stream",
          "name": "stderr",
          "text": [
            "/usr/local/lib/python3.10/dist-packages/sklearn/linear_model/_logistic.py:458: ConvergenceWarning: lbfgs failed to converge (status=1):\n",
            "STOP: TOTAL NO. of ITERATIONS REACHED LIMIT.\n",
            "\n",
            "Increase the number of iterations (max_iter) or scale the data as shown in:\n",
            "    https://scikit-learn.org/stable/modules/preprocessing.html\n",
            "Please also refer to the documentation for alternative solver options:\n",
            "    https://scikit-learn.org/stable/modules/linear_model.html#logistic-regression\n",
            "  n_iter_i = _check_optimize_result(\n"
          ]
        },
        {
          "output_type": "execute_result",
          "data": {
            "text/plain": [
              "LogisticRegression()"
            ],
            "text/html": [
              "<style>#sk-container-id-10 {color: black;background-color: white;}#sk-container-id-10 pre{padding: 0;}#sk-container-id-10 div.sk-toggleable {background-color: white;}#sk-container-id-10 label.sk-toggleable__label {cursor: pointer;display: block;width: 100%;margin-bottom: 0;padding: 0.3em;box-sizing: border-box;text-align: center;}#sk-container-id-10 label.sk-toggleable__label-arrow:before {content: \"▸\";float: left;margin-right: 0.25em;color: #696969;}#sk-container-id-10 label.sk-toggleable__label-arrow:hover:before {color: black;}#sk-container-id-10 div.sk-estimator:hover label.sk-toggleable__label-arrow:before {color: black;}#sk-container-id-10 div.sk-toggleable__content {max-height: 0;max-width: 0;overflow: hidden;text-align: left;background-color: #f0f8ff;}#sk-container-id-10 div.sk-toggleable__content pre {margin: 0.2em;color: black;border-radius: 0.25em;background-color: #f0f8ff;}#sk-container-id-10 input.sk-toggleable__control:checked~div.sk-toggleable__content {max-height: 200px;max-width: 100%;overflow: auto;}#sk-container-id-10 input.sk-toggleable__control:checked~label.sk-toggleable__label-arrow:before {content: \"▾\";}#sk-container-id-10 div.sk-estimator input.sk-toggleable__control:checked~label.sk-toggleable__label {background-color: #d4ebff;}#sk-container-id-10 div.sk-label input.sk-toggleable__control:checked~label.sk-toggleable__label {background-color: #d4ebff;}#sk-container-id-10 input.sk-hidden--visually {border: 0;clip: rect(1px 1px 1px 1px);clip: rect(1px, 1px, 1px, 1px);height: 1px;margin: -1px;overflow: hidden;padding: 0;position: absolute;width: 1px;}#sk-container-id-10 div.sk-estimator {font-family: monospace;background-color: #f0f8ff;border: 1px dotted black;border-radius: 0.25em;box-sizing: border-box;margin-bottom: 0.5em;}#sk-container-id-10 div.sk-estimator:hover {background-color: #d4ebff;}#sk-container-id-10 div.sk-parallel-item::after {content: \"\";width: 100%;border-bottom: 1px solid gray;flex-grow: 1;}#sk-container-id-10 div.sk-label:hover label.sk-toggleable__label {background-color: #d4ebff;}#sk-container-id-10 div.sk-serial::before {content: \"\";position: absolute;border-left: 1px solid gray;box-sizing: border-box;top: 0;bottom: 0;left: 50%;z-index: 0;}#sk-container-id-10 div.sk-serial {display: flex;flex-direction: column;align-items: center;background-color: white;padding-right: 0.2em;padding-left: 0.2em;position: relative;}#sk-container-id-10 div.sk-item {position: relative;z-index: 1;}#sk-container-id-10 div.sk-parallel {display: flex;align-items: stretch;justify-content: center;background-color: white;position: relative;}#sk-container-id-10 div.sk-item::before, #sk-container-id-10 div.sk-parallel-item::before {content: \"\";position: absolute;border-left: 1px solid gray;box-sizing: border-box;top: 0;bottom: 0;left: 50%;z-index: -1;}#sk-container-id-10 div.sk-parallel-item {display: flex;flex-direction: column;z-index: 1;position: relative;background-color: white;}#sk-container-id-10 div.sk-parallel-item:first-child::after {align-self: flex-end;width: 50%;}#sk-container-id-10 div.sk-parallel-item:last-child::after {align-self: flex-start;width: 50%;}#sk-container-id-10 div.sk-parallel-item:only-child::after {width: 0;}#sk-container-id-10 div.sk-dashed-wrapped {border: 1px dashed gray;margin: 0 0.4em 0.5em 0.4em;box-sizing: border-box;padding-bottom: 0.4em;background-color: white;}#sk-container-id-10 div.sk-label label {font-family: monospace;font-weight: bold;display: inline-block;line-height: 1.2em;}#sk-container-id-10 div.sk-label-container {text-align: center;}#sk-container-id-10 div.sk-container {/* jupyter's `normalize.less` sets `[hidden] { display: none; }` but bootstrap.min.css set `[hidden] { display: none !important; }` so we also need the `!important` here to be able to override the default hidden behavior on the sphinx rendered scikit-learn.org. See: https://github.com/scikit-learn/scikit-learn/issues/21755 */display: inline-block !important;position: relative;}#sk-container-id-10 div.sk-text-repr-fallback {display: none;}</style><div id=\"sk-container-id-10\" class=\"sk-top-container\"><div class=\"sk-text-repr-fallback\"><pre>LogisticRegression()</pre><b>In a Jupyter environment, please rerun this cell to show the HTML representation or trust the notebook. <br />On GitHub, the HTML representation is unable to render, please try loading this page with nbviewer.org.</b></div><div class=\"sk-container\" hidden><div class=\"sk-item\"><div class=\"sk-estimator sk-toggleable\"><input class=\"sk-toggleable__control sk-hidden--visually\" id=\"sk-estimator-id-20\" type=\"checkbox\" checked><label for=\"sk-estimator-id-20\" class=\"sk-toggleable__label sk-toggleable__label-arrow\">LogisticRegression</label><div class=\"sk-toggleable__content\"><pre>LogisticRegression()</pre></div></div></div></div></div>"
            ]
          },
          "metadata": {},
          "execution_count": 91
        }
      ],
      "source": [
        "# First, initialize the classifier with default parameters\n",
        "# then fit the classifier on training data and labels\n",
        "\n",
        "classifier = LogisticRegression()\n",
        "\n",
        "classifier.fit(X_train, y_train)"
      ]
    },
    {
      "cell_type": "code",
      "execution_count": null,
      "metadata": {
        "id": "RpE2jWXEFgW1",
        "colab": {
          "base_uri": "https://localhost:8080/",
          "height": 75
        },
        "outputId": "39b5d1a9-5ee3-4771-f53d-311c984fdf80"
      },
      "outputs": [
        {
          "output_type": "execute_result",
          "data": {
            "text/plain": [
              "LogisticRegression(max_iter=200)"
            ],
            "text/html": [
              "<style>#sk-container-id-11 {color: black;background-color: white;}#sk-container-id-11 pre{padding: 0;}#sk-container-id-11 div.sk-toggleable {background-color: white;}#sk-container-id-11 label.sk-toggleable__label {cursor: pointer;display: block;width: 100%;margin-bottom: 0;padding: 0.3em;box-sizing: border-box;text-align: center;}#sk-container-id-11 label.sk-toggleable__label-arrow:before {content: \"▸\";float: left;margin-right: 0.25em;color: #696969;}#sk-container-id-11 label.sk-toggleable__label-arrow:hover:before {color: black;}#sk-container-id-11 div.sk-estimator:hover label.sk-toggleable__label-arrow:before {color: black;}#sk-container-id-11 div.sk-toggleable__content {max-height: 0;max-width: 0;overflow: hidden;text-align: left;background-color: #f0f8ff;}#sk-container-id-11 div.sk-toggleable__content pre {margin: 0.2em;color: black;border-radius: 0.25em;background-color: #f0f8ff;}#sk-container-id-11 input.sk-toggleable__control:checked~div.sk-toggleable__content {max-height: 200px;max-width: 100%;overflow: auto;}#sk-container-id-11 input.sk-toggleable__control:checked~label.sk-toggleable__label-arrow:before {content: \"▾\";}#sk-container-id-11 div.sk-estimator input.sk-toggleable__control:checked~label.sk-toggleable__label {background-color: #d4ebff;}#sk-container-id-11 div.sk-label input.sk-toggleable__control:checked~label.sk-toggleable__label {background-color: #d4ebff;}#sk-container-id-11 input.sk-hidden--visually {border: 0;clip: rect(1px 1px 1px 1px);clip: rect(1px, 1px, 1px, 1px);height: 1px;margin: -1px;overflow: hidden;padding: 0;position: absolute;width: 1px;}#sk-container-id-11 div.sk-estimator {font-family: monospace;background-color: #f0f8ff;border: 1px dotted black;border-radius: 0.25em;box-sizing: border-box;margin-bottom: 0.5em;}#sk-container-id-11 div.sk-estimator:hover {background-color: #d4ebff;}#sk-container-id-11 div.sk-parallel-item::after {content: \"\";width: 100%;border-bottom: 1px solid gray;flex-grow: 1;}#sk-container-id-11 div.sk-label:hover label.sk-toggleable__label {background-color: #d4ebff;}#sk-container-id-11 div.sk-serial::before {content: \"\";position: absolute;border-left: 1px solid gray;box-sizing: border-box;top: 0;bottom: 0;left: 50%;z-index: 0;}#sk-container-id-11 div.sk-serial {display: flex;flex-direction: column;align-items: center;background-color: white;padding-right: 0.2em;padding-left: 0.2em;position: relative;}#sk-container-id-11 div.sk-item {position: relative;z-index: 1;}#sk-container-id-11 div.sk-parallel {display: flex;align-items: stretch;justify-content: center;background-color: white;position: relative;}#sk-container-id-11 div.sk-item::before, #sk-container-id-11 div.sk-parallel-item::before {content: \"\";position: absolute;border-left: 1px solid gray;box-sizing: border-box;top: 0;bottom: 0;left: 50%;z-index: -1;}#sk-container-id-11 div.sk-parallel-item {display: flex;flex-direction: column;z-index: 1;position: relative;background-color: white;}#sk-container-id-11 div.sk-parallel-item:first-child::after {align-self: flex-end;width: 50%;}#sk-container-id-11 div.sk-parallel-item:last-child::after {align-self: flex-start;width: 50%;}#sk-container-id-11 div.sk-parallel-item:only-child::after {width: 0;}#sk-container-id-11 div.sk-dashed-wrapped {border: 1px dashed gray;margin: 0 0.4em 0.5em 0.4em;box-sizing: border-box;padding-bottom: 0.4em;background-color: white;}#sk-container-id-11 div.sk-label label {font-family: monospace;font-weight: bold;display: inline-block;line-height: 1.2em;}#sk-container-id-11 div.sk-label-container {text-align: center;}#sk-container-id-11 div.sk-container {/* jupyter's `normalize.less` sets `[hidden] { display: none; }` but bootstrap.min.css set `[hidden] { display: none !important; }` so we also need the `!important` here to be able to override the default hidden behavior on the sphinx rendered scikit-learn.org. See: https://github.com/scikit-learn/scikit-learn/issues/21755 */display: inline-block !important;position: relative;}#sk-container-id-11 div.sk-text-repr-fallback {display: none;}</style><div id=\"sk-container-id-11\" class=\"sk-top-container\"><div class=\"sk-text-repr-fallback\"><pre>LogisticRegression(max_iter=200)</pre><b>In a Jupyter environment, please rerun this cell to show the HTML representation or trust the notebook. <br />On GitHub, the HTML representation is unable to render, please try loading this page with nbviewer.org.</b></div><div class=\"sk-container\" hidden><div class=\"sk-item\"><div class=\"sk-estimator sk-toggleable\"><input class=\"sk-toggleable__control sk-hidden--visually\" id=\"sk-estimator-id-21\" type=\"checkbox\" checked><label for=\"sk-estimator-id-21\" class=\"sk-toggleable__label sk-toggleable__label-arrow\">LogisticRegression</label><div class=\"sk-toggleable__content\"><pre>LogisticRegression(max_iter=200)</pre></div></div></div></div></div>"
            ]
          },
          "metadata": {},
          "execution_count": 92
        }
      ],
      "source": [
        "# If there is any ConvergenceWarning, increase the number of iterations. (Let max_iter = 200)\n",
        "\n",
        "classifier = LogisticRegression(max_iter=200)\n",
        "\n",
        "classifier.fit(X_train, y_train)"
      ]
    },
    {
      "cell_type": "code",
      "execution_count": null,
      "metadata": {
        "id": "UKR98kFw_lQO"
      },
      "outputs": [],
      "source": [
        "# predict the output for validation dataset\n",
        "\n",
        "val_pred = classifier.predict(X_val)"
      ]
    },
    {
      "cell_type": "markdown",
      "metadata": {
        "id": "gAaWBNcsAlF2"
      },
      "source": [
        "Implement my_precision(), my_recall(), my_accuracy() by yourselves"
      ]
    },
    {
      "cell_type": "code",
      "execution_count": null,
      "metadata": {
        "id": "SC-_P6AoAuQJ"
      },
      "outputs": [],
      "source": [
        "def my_precision(y, y_preds): #TP/(TP+FP)\n",
        "    TP = sum((y == 1) & (y_preds == 1))\n",
        "    FP = sum((y == 0) & (y_preds == 1))\n",
        "    TN = sum((y == 0) & (y_preds == 0))\n",
        "    FN = sum((y == 1) & (y_preds == 0))\n",
        "    if TP + FP == 0:\n",
        "        return 0\n",
        "    return(TP/(TP+FP))\n",
        "\n",
        "def my_recall(y, y_preds): #TP/(TP+FN)\n",
        "    TP = sum((y == 1) & (y_preds == 1))\n",
        "    FP = sum((y == 0) & (y_preds == 1))\n",
        "    TN = sum((y == 0) & (y_preds == 0))\n",
        "    FN = sum((y == 1) & (y_preds == 0))\n",
        "    if TP+FP+FN+TN == 0:\n",
        "        return 0\n",
        "    return(TP/(TP+FN))\n",
        "\n",
        "def my_accuracy(y, y_preds): #(TP+TN)/(TP+FP+FN+TN)\n",
        "    TP = sum((y == 1) & (y_preds == 1))\n",
        "    FP = sum((y == 0) & (y_preds == 1))\n",
        "    TN = sum((y == 0) & (y_preds == 0))\n",
        "    FN = sum((y == 1) & (y_preds == 0))\n",
        "    if TP+FP+FN+TN == 0:\n",
        "        return 0\n",
        "    return((TP+TN)/(TP+FP+FN+TN))"
      ]
    },
    {
      "cell_type": "markdown",
      "metadata": {
        "id": "6x6-GqJ5Mp06"
      },
      "source": [
        "Use your above functions to compute precision, recall, and accuracy of your model on validation set:"
      ]
    },
    {
      "cell_type": "code",
      "execution_count": null,
      "metadata": {
        "id": "MsQSYMcaMl1S",
        "colab": {
          "base_uri": "https://localhost:8080/"
        },
        "outputId": "bd5da178-e08c-4ccb-e435-cd72dea60d81"
      },
      "outputs": [
        {
          "output_type": "stream",
          "name": "stdout",
          "text": [
            "The precision of my model on validation set is:  0.6610169491525424\n",
            "The recall of my model on validation set is:  0.43333333333333335\n",
            "The accuracy of my model on validation set is:  0.8219063545150501\n"
          ]
        }
      ],
      "source": [
        "### WRITE CODE HERE\n",
        "print('The precision of my model on validation set is: ',\n",
        "      my_precision(y_val, val_pred))\n",
        "\n",
        "print('The recall of my model on validation set is: ',\n",
        "      my_recall(y_val, val_pred))\n",
        "\n",
        "print('The accuracy of my model on validation set is: ',\n",
        "      my_accuracy(y_val, val_pred))"
      ]
    },
    {
      "cell_type": "markdown",
      "metadata": {
        "id": "RKXWHHJ1OsMZ"
      },
      "source": [
        "Q. Accuracy<br>\n",
        "Ans - 0.8219063545150501\n",
        "\n",
        "Q. Precision<br>\n",
        "Ans - 0.6610169491525424\n",
        "\n",
        "Q. Recall<br>\n",
        "Ans - 0.43333333333333335\n",
        "\n",
        "Q. Which metric (accuracy, precision, recall) is more appropriate and in what cases? Will there be scenarios where it is better to use precision than accuracy? Explain. <br>\n",
        "Ans - Accuracy is more appropriate in cases where each class are equally significant and the impact of FP and FN is equivalent. Precision and recall are more appropriate in imbalanced datasets or when FP and FN are costly.\n",
        "\n",
        "There will be scenarios where it is better to use precision than accuracy: When FP has a high cost or serious consequences because precision aims to minimize occurrence of FP (e.g. when classifying important emails as spam in email spam detection), or when accuracy is possibly deceptive.\n",
        "\n",
        "Q. Which metric is suitable in this case? <br>\n",
        "Ans - Precision is suitable in this case because FP has a high cost when we mistakenly identify a non-defaulter as a defaulter."
      ]
    },
    {
      "cell_type": "markdown",
      "metadata": {
        "id": "6Bflc8MVP3K7"
      },
      "source": [
        "### ROC curve\n",
        "\n",
        "Use roc_Curve from sklearn.metrics and use matplotlib.pyplot to plot the ROC curve. Use validation set to make predictions and to draw ROC curve."
      ]
    },
    {
      "cell_type": "code",
      "execution_count": null,
      "metadata": {
        "id": "51E1Wc2QQDqt",
        "colab": {
          "base_uri": "https://localhost:8080/",
          "height": 472
        },
        "outputId": "c1f8a971-f449-4429-c784-9cb3ac607681"
      },
      "outputs": [
        {
          "output_type": "display_data",
          "data": {
            "text/plain": [
              "<Figure size 640x480 with 1 Axes>"
            ],
            "image/png": "[encoded data removed]"
          },
          "metadata": {}
        }
      ],
      "source": [
        "# Plot the ROC curve by giving appropriate names for title and axes.\n",
        "from sklearn.metrics import roc_curve, auc\n",
        "import matplotlib.pyplot as plt\n",
        "\n",
        "# Compute ROC curve and ROC area\n",
        "prob = classifier.predict_proba(X_val)\n",
        "pred_prob = prob[:,1]\n",
        "\n",
        "fpr, tpr, thresholds = roc_curve(y_val, pred_prob)\n",
        "roc_auc = auc(fpr, tpr)\n",
        "\n",
        "# Plotting the ROC curve\n",
        "plt.figure()\n",
        "plt.plot(fpr, tpr, color='darkorange', lw=2, label='ROC curve (area = %0.2f)' % roc_auc)\n",
        "plt.plot([0, 1], [0, 1], color='navy', lw=2, linestyle='--')\n",
        "plt.xlim([0.0, 1.0])\n",
        "plt.ylim([0.0, 1.05])\n",
        "plt.xlabel('False Positive Rate')\n",
        "plt.ylabel('True Positive Rate')\n",
        "plt.title('Receiver Operating Characteristic')\n",
        "plt.legend(loc=\"lower right\")\n",
        "plt.show()\n"
      ]
    },
    {
      "cell_type": "code",
      "source": [
        "from sklearn.metrics import roc_auc_score\n",
        "roc_auc_score(y_val, pred_prob)"
      ],
      "metadata": {
        "colab": {
          "base_uri": "https://localhost:8080/"
        },
        "id": "jz_WCbEHwDvj",
        "outputId": "6aef6edf-7b9d-4b15-ff5c-b99107ec2d91"
      },
      "execution_count": null,
      "outputs": [
        {
          "output_type": "execute_result",
          "data": {
            "text/plain": [
              "0.7668986481081512"
            ]
          },
          "metadata": {},
          "execution_count": 97
        }
      ]
    },
    {
      "cell_type": "markdown",
      "metadata": {
        "id": "OK9uSsm4Qdfu"
      },
      "source": [
        "Q. What is the AUC obtained?<br>\n",
        "Ans - 0.7668986481081512"
      ]
    },
    {
      "cell_type": "markdown",
      "metadata": {
        "id": "E9X_maKDT63P"
      },
      "source": [
        "## Hyperparameters\n",
        "\n",
        "\"Model tuning\" refers to model adjustments to better fit the data, which is separate from \"fitting\" or \"training\" the model.\n"
      ]
    },
    {
      "cell_type": "markdown",
      "metadata": {
        "id": "OQMd79-sUEUr"
      },
      "source": [
        "Build a model with hyperparameter 'C' set to 0.1 and penalty set to 'l1'. Make predictions on validation set and compute accuracy, precision and recall."
      ]
    },
    {
      "cell_type": "code",
      "execution_count": null,
      "metadata": {
        "id": "1n6cx2_KUFYw",
        "colab": {
          "base_uri": "https://localhost:8080/"
        },
        "outputId": "6ce055b1-0a93-4c9c-e4b3-865f76f2681f"
      },
      "outputs": [
        {
          "output_type": "stream",
          "name": "stdout",
          "text": [
            "Accuracy at C=0.1  0.8252508361204013\n",
            "Precision at C=0.1  0.6804733727810651\n",
            "Recall at C=0.1  0.42592592592592593\n"
          ]
        }
      ],
      "source": [
        "### WRITE CODE HERE\n",
        "from sklearn.linear_model import LogisticRegression\n",
        "from sklearn.metrics import accuracy_score, precision_score, recall_score\n",
        "from sklearn.model_selection import train_test_split\n",
        "\n",
        "model = LogisticRegression(C=0.1, penalty='l1', solver='liblinear')\n",
        "model.fit(X_train, y_train)\n",
        "\n",
        "y_pred = model.predict(X_val)\n",
        "\n",
        "accuracy = accuracy_score(y_val, y_pred)\n",
        "precision = precision_score(y_val, y_pred)\n",
        "recall = recall_score(y_val, y_pred)\n",
        "\n",
        "print(\"Accuracy at C=0.1 \", accuracy)\n",
        "print(\"Precision at C=0.1 \", precision)\n",
        "print(\"Recall at C=0.1 \", recall)"
      ]
    },
    {
      "cell_type": "markdown",
      "metadata": {
        "id": "kFYJ5hU-U7hL"
      },
      "source": [
        "Build a model with hyperparameter 'C' set to 0.5 and penalty set to 'l1'. Make predictions on validation set and compute accuracy, precision and recall."
      ]
    },
    {
      "cell_type": "code",
      "execution_count": null,
      "metadata": {
        "id": "3fnH0Pt9U8KT",
        "colab": {
          "base_uri": "https://localhost:8080/"
        },
        "outputId": "d14e145b-7cc1-46a7-bf02-272f51d17e66"
      },
      "outputs": [
        {
          "output_type": "stream",
          "name": "stdout",
          "text": [
            "Accuracy at C=0.5  0.8235785953177257\n",
            "Precision at C=0.5  0.6685714285714286\n",
            "Recall at C=0.5  0.43333333333333335\n"
          ]
        }
      ],
      "source": [
        "### WRITE CODE HERE\n",
        "from sklearn.linear_model import LogisticRegression\n",
        "from sklearn.metrics import accuracy_score, precision_score, recall_score\n",
        "from sklearn.model_selection import train_test_split\n",
        "\n",
        "model = LogisticRegression(C=0.5, penalty='l1', solver='liblinear')\n",
        "model.fit(X_train, y_train)\n",
        "\n",
        "y_pred = model.predict(X_val)\n",
        "\n",
        "accuracy = accuracy_score(y_val, y_pred)\n",
        "precision = precision_score(y_val, y_pred)\n",
        "recall = recall_score(y_val, y_pred)\n",
        "\n",
        "print(\"Accuracy at C=0.5 \", accuracy)\n",
        "print(\"Precision at C=0.5 \", precision)\n",
        "print(\"Recall at C=0.5 \", recall)"
      ]
    },
    {
      "cell_type": "markdown",
      "metadata": {
        "id": "pWQj9WiUVMHT"
      },
      "source": [
        "Build a model with hyperparameter 'C' set to 0.1 and penalty set to 'l2'. Make predictions on validation set and compute accuracy, precision and recall."
      ]
    },
    {
      "cell_type": "code",
      "execution_count": null,
      "metadata": {
        "id": "x6Tvpz7wVPAW",
        "colab": {
          "base_uri": "https://localhost:8080/"
        },
        "outputId": "05633d54-80cb-4c22-8947-917e107ddd3a"
      },
      "outputs": [
        {
          "output_type": "stream",
          "name": "stdout",
          "text": [
            "Accuracy at C=0.1 and l2 penalty  0.8210702341137124\n",
            "Precision at C=0.1 and l2 penalty  0.6627906976744186\n",
            "Recall at C=0.1 and l2 penalty  0.4222222222222222\n"
          ]
        }
      ],
      "source": [
        "### WRITE CODE HERE\n",
        "from sklearn.linear_model import LogisticRegression\n",
        "from sklearn.metrics import accuracy_score, precision_score, recall_score\n",
        "from sklearn.model_selection import train_test_split\n",
        "\n",
        "model = LogisticRegression(C=0.1, penalty='l2', solver='liblinear')\n",
        "model.fit(X_train, y_train)\n",
        "\n",
        "y_pred = model.predict(X_val)\n",
        "\n",
        "accuracy = accuracy_score(y_val, y_pred)\n",
        "precision = precision_score(y_val, y_pred)\n",
        "recall = recall_score(y_val, y_pred)\n",
        "\n",
        "print(\"Accuracy at C=0.1 and l2 penalty \", accuracy)\n",
        "print(\"Precision at C=0.1 and l2 penalty \", precision)\n",
        "print(\"Recall at C=0.1 and l2 penalty \", recall)"
      ]
    },
    {
      "cell_type": "markdown",
      "metadata": {
        "id": "5ihWSDXiVWta"
      },
      "source": [
        "Build a model with hyperparameter 'C' set to 0.5 and penalty set to 'l2'. Make predictions on validation set and compute accuracy, precision and recall. (Try to use a different solver or increase the number of iterations if there is a ConvergenceWarning)"
      ]
    },
    {
      "cell_type": "code",
      "execution_count": null,
      "metadata": {
        "id": "9ggEfBX4VZdM",
        "colab": {
          "base_uri": "https://localhost:8080/"
        },
        "outputId": "c6ab7f7d-63e3-4f3b-8b25-4e28e42cdc70"
      },
      "outputs": [
        {
          "output_type": "stream",
          "name": "stdout",
          "text": [
            "Accuracy at C=0.5 and l2 penalty  0.822742474916388\n",
            "Precision at C=0.5 and l2 penalty  0.6647727272727273\n",
            "Recall at C=0.5 and l2 penalty  0.43333333333333335\n"
          ]
        }
      ],
      "source": [
        "### WRITE CODE HERE\n",
        "from sklearn.linear_model import LogisticRegression\n",
        "from sklearn.metrics import accuracy_score, precision_score, recall_score\n",
        "from sklearn.model_selection import train_test_split\n",
        "\n",
        "model = LogisticRegression(C=0.5, penalty='l2', solver='liblinear')\n",
        "model.fit(X_train, y_train)\n",
        "\n",
        "y_pred = model.predict(X_val)\n",
        "\n",
        "accuracy = accuracy_score(y_val, y_pred)\n",
        "precision = precision_score(y_val, y_pred)\n",
        "recall = recall_score(y_val, y_pred)\n",
        "\n",
        "print(\"Accuracy at C=0.5 and l2 penalty \", accuracy)\n",
        "print(\"Precision at C=0.5 and l2 penalty \", precision)\n",
        "print(\"Recall at C=0.5 and l2 penalty \", recall)"
      ]
    },
    {
      "cell_type": "markdown",
      "metadata": {
        "id": "bXnNF73CWpYz"
      },
      "source": [
        "Q. Which of the above models is better?<br>\n",
        "Ans- As mentioned above, the most fitting model in this case would be the one that optimizes precision due to the importance of FP having a high cost. Therefore, the chosen model should be the first one- C=0.1, and penalty= l1 (the first model)."
      ]
    },
    {
      "cell_type": "markdown",
      "metadata": {
        "id": "dRBjfOnjXFMj"
      },
      "source": [
        "# Test set\n",
        "\n",
        "You have worked on training and validation dataset so far, but test data does not include the labels. Choose the best hyperparameter values as seen in previous section and build a model. Use this model to make predictions on test set."
      ]
    },
    {
      "cell_type": "code",
      "execution_count": null,
      "metadata": {
        "id": "vJWNXQvHXKuM",
        "colab": {
          "base_uri": "https://localhost:8080/"
        },
        "outputId": "8ad494f3-e24e-4794-db98-db10bf863e5c"
      },
      "outputs": [
        {
          "output_type": "stream",
          "name": "stdout",
          "text": [
            "[0 0 1 0 0 0 0 0 0 0 0 1 0 0 0 0 0 0 1 0 0 0 1 0 0 0 1 0 0 1 0 0 0 0 1 0 0\n",
            " 0 0 0 0 0 0 0 0 0 0 0 0 0 0 0 0 0 0 1 1 0 0 0 0 0 0 0 0 0 0 0 0 0 0 0 1 0\n",
            " 0 0 0 0 0 0 0 0 0 0 0 0 0 0 0 0 0 0 0 0 0 0 0 0 0 0 0 0 0 0 0 0 0 0 0 0 0\n",
            " 0 0 0 0 1 0 0 0 0 0 0 0 0 0 0 0 0 0 0 0 0 0 0 0 0 1 1 1 0 1 0 1 0 0 1 0 0\n",
            " 0 0 0 0 0 0 0 0 0 0 0 0 0 0 0 0 0 0 0 0 0 0 0 0 0 1 0 0 0 0 0 0 0 0 0 0 0\n",
            " 0 0 0 0 0 0 0 1 1 0 1 0 0 0 0 0 0 1 1 0 0 0 0 0 0 0 0 0 0 0 0 0 0 0 0 0 0\n",
            " 0 0 0 0 0 0 0 0 0 0 0 0 0 0 0 0 0 0 1 0 0 0 0 0 1 0 0 0 0 0 0 0 0 0 0 0 0\n",
            " 0 0 1 0 0 0 1 0 0 0 0 0 0 0 1 1 0 1 0 0 0 1 1 0 0 0 0 1 0 0 0 1 0 0 0 1 0\n",
            " 0 0 0 0 0 0 1 0 0 0 0 0 0 0 0 0 0 0 0 1 1 0 0 0 1 0 0 0 0 0 0 1 0 0 0 0 0\n",
            " 0 0 0 1 0 0 1 0 0 0 0 0 1 0 0 0 0 0 0 0 0 0 0 0 1 1 0 0 0 0 0 0 0 0 0 0 0\n",
            " 0 1 0 1 0 0 0 0 0 0 0 0 0 0 0 0 0 0 1 0 0 1 0 0 1 0 0 0 0 0 0 1 0 0 0 1 0\n",
            " 0 0 0 0 1 1 0 0 0 1 0 0 0 0 0 0 1 0 0 1 0 0 0 0 0 0 0 0 0 0 0 0 0 0 0 0 0\n",
            " 1 0 0 0 0 0 0 1 0 0 0 0 1 0 0 0 1 1 0 0 0 0 0 0 0 0 0 0 0 0 0 0 0 0 0 0 0\n",
            " 1 0 0 0 0 0 1 1 0 0 0 0 1 0 0 0 0 0 0 0 0 0 0 0 0 0 0 0 0 0 0 1 1 1 1 0 0\n",
            " 0 0 0 0 0 0 0 0 0 0 0 0 0 0 0 0 0 0 0 0 0 0 0 0 0 1 0 0 0 0 1 0 0 1 0 0 0\n",
            " 0 0 0 0 0 0 0 0 0 0 1 0 1 0 0 0 0 0 0 0 0 0 0 0 0 0 0 0 0 0 0 0 0 0 0 1 0\n",
            " 0 0 0 0 0 0 0 1 0 0 0 0 0 0 0 0 0 0 0 0 0 0 0 0 0 0 0 0 0 0 0 0 1 0 1 0 0\n",
            " 0 0 0 0 0 0 0 0 0 0 0 1 0 0 0 0 0 0 0 0 0 0 0 0 0 0 0 0 0 0 0 0 0 0 0 0 0\n",
            " 0 0 0 1 0 0 0 0 0 0 0 1 0 0 0 0 0 0 0 0 0 0 1 0 0 0 0 0 0 1 0 0 0 0 0 1 0\n",
            " 0 0 0 0 0 0 0 0 0 0 0 0 0 0 0 0 0 0 0 0 0 0 0 0 0 1 0 0 0 0 0 0 0 1 1 0 0\n",
            " 0 0 0 0 0 0 0 0 0 0 0 0 0 0 0 0 0 0 0 1 0 0 0 0 0 0 0 0 0 0 0 0 0 0 1 0 0\n",
            " 0 1 0 1 0 0 0 0 0 1 0 0 0 0 0 0 0 0 0 0 0 0 0 0 0 0 0 1 0 0 0 0 0 0 0 0 0\n",
            " 0 0 0 0 0 0 0 1 0 1 0 0 1 0 0 0 0 0 0 0 0 0 0 0 0 0 0 0 0 0 0 0 0 0 0 0 0\n",
            " 0 0 0 0 0 0 1 0 0 0 0 0 0 0 1 0 0 0 0 0 1 0 0 1 0 0 0 0 0 0 0 0 0 0 0 0 1\n",
            " 0 0 0 1 0 0 0 0 0 0 1 0 0 0 0 0 0 0 0 1 1 0 0 0 0 0 0 0 0 0 0 0 0 1 0 0 0\n",
            " 0 0 1 0 0 1 0 0 0 0 0 0 0 0 0 0 0 0 0 0 0 0 0 0 0 0 0 1 0 0 1 1 0 1 0 0 0\n",
            " 0 0 1 0 1 0 0 0 0 0 0 0 0 0 0 1 0 0 0 0 0 0 0 0 0 0 0 0 0 0 0 0 0 0 0 0 0\n",
            " 0]\n"
          ]
        }
      ],
      "source": [
        "# Construct your final logistic regression using the best hyperparameters obtained above (C and penalty) ###\n",
        "from sklearn.linear_model import LogisticRegression\n",
        "\n",
        "C = 0.1\n",
        "penalty = 'l1'\n",
        "\n",
        "precision_model = LogisticRegression(C=C, penalty=penalty, solver='liblinear')\n",
        "precision_model.fit(X_train, y_train)\n",
        "\n",
        "y_pred = precision_model.predict(encoded_test)\n",
        "print(y_pred)"
      ]
    },
    {
      "cell_type": "markdown",
      "metadata": {
        "id": "3hH63r9qXr0_"
      },
      "source": [
        "# Dataset 2\n",
        "## Heart Disease Dataset Description\n",
        "\n",
        "The Heart Disease Dataset contains a number of variables that can be used to predict the presence of heart disease in patients. Each attribute potentially contributes information that could be used to determine heart disease risk.\n",
        "\n",
        "### Dataset Features:\n",
        "\n",
        "- **Age**: The patient's age in years.\n",
        "- **Sex**: The patient's sex (1 = male, 0 = female).\n",
        "- **Chest Pain Type**: Type of chest pain experienced (values ranging from 1 to 4).\n",
        "- **Resting Blood Pressure**: Resting blood pressure in mm Hg on admission to the hospital.\n",
        "- **Serum Cholestrol**: Serum cholesterol in mg/dl.\n",
        "- **Fasting Blood Sugar**: Fasting blood sugar > 120 mg/dl (1 = true; 0 = false).\n",
        "- **Resting Electrocardiographic Results**: Resting electrocardiographic results (values 0, 1, 2).\n",
        "- **Maximum Heart Rate Achieved**: Maximum heart rate achieved during thallium stress test.\n",
        "- **Exercise Induced Angina**: Exercise-induced angina (1 = yes; 0 = no).\n",
        "- **ST Depression**: ST depression induced by exercise relative to rest.\n",
        "- **Slope of the Peak Exercise ST Segment**: The slope of the peak exercise ST segment.\n",
        "- **Number of Major Vessels**: Number of major vessels colored by fluoroscopy (0-3).\n",
        "- **Thal**: A blood disorder called thalassemia (3 = normal; 6 = fixed defect; 7 = reversible defect).\n",
        "\n",
        "### Target Variable:\n",
        "\n",
        "- **Heart Disease Presence**: The presence of heart disease (0 = no, 1 = yes).\n",
        "\n",
        "\n"
      ]
    },
    {
      "cell_type": "code",
      "execution_count": null,
      "metadata": {
        "id": "t7gSdDiIzErK",
        "colab": {
          "base_uri": "https://localhost:8080/"
        },
        "outputId": "e3e8cd87-e6c9-4300-ee6d-d815481333e2"
      },
      "outputs": [
        {
          "output_type": "stream",
          "name": "stdout",
          "text": [
            "Requirement already satisfied: ucimlrepo in /usr/local/lib/python3.10/dist-packages (0.0.3)\n",
            "   age  sex  cp  trestbps  chol  fbs  restecg  thalach  exang  oldpeak  slope  \\\n",
            "0   63    1   1       145   233    1        2      150      0      2.3      3   \n",
            "1   67    1   4       160   286    0        2      108      1      1.5      2   \n",
            "2   67    1   4       120   229    0        2      129      1      2.6      2   \n",
            "3   37    1   3       130   250    0        0      187      0      3.5      3   \n",
            "4   41    0   2       130   204    0        2      172      0      1.4      1   \n",
            "\n",
            "    ca  thal  \n",
            "0  0.0   6.0  \n",
            "1  3.0   3.0  \n",
            "2  2.0   7.0  \n",
            "3  0.0   3.0  \n",
            "4  0.0   3.0  \n",
            "0    0\n",
            "1    1\n",
            "2    1\n",
            "3    0\n",
            "4    0\n",
            "Name: HeartDisease, dtype: int64\n"
          ]
        }
      ],
      "source": [
        "# Load the data set\n",
        "!pip install ucimlrepo\n",
        "\n",
        "from ucimlrepo import fetch_ucirepo\n",
        "import pandas as pd\n",
        "import numpy as np\n",
        "\n",
        "# Fetch dataset\n",
        "heart_disease = fetch_ucirepo(id=45)\n",
        "\n",
        "# Data (as pandas dataframes)\n",
        "X = heart_disease.data.features\n",
        "y = heart_disease.data.targets\n",
        "\n",
        "# Convert the target variable to binary\n",
        "# 0 indicates no disease, 1 indicates any level of disease\n",
        "y_binary = np.where(y == 0, 0, 1)\n",
        "y_binary_series = pd.Series(y_binary.reshape(-1), name='HeartDisease')\n",
        "# Now, X contains the features and y_binary contains the binary target\n",
        "print(X.head())\n",
        "print(y_binary_series.head())"
      ]
    },
    {
      "cell_type": "code",
      "execution_count": null,
      "metadata": {
        "id": "647YpRhQpjNx",
        "colab": {
          "base_uri": "https://localhost:8080/"
        },
        "outputId": "a2473405-cbd1-4157-eab7-c208b0fec7de"
      },
      "outputs": [
        {
          "output_type": "stream",
          "name": "stdout",
          "text": [
            "\n",
            "Missing Values:\n",
            "age         0\n",
            "sex         0\n",
            "cp          0\n",
            "trestbps    0\n",
            "chol        0\n",
            "fbs         0\n",
            "restecg     0\n",
            "thalach     0\n",
            "exang       0\n",
            "oldpeak     0\n",
            "slope       0\n",
            "ca          4\n",
            "thal        2\n",
            "dtype: int64\n",
            "\n",
            "Shapes after cleaning:\n",
            "X_cleaned: (297, 13)\n",
            "y_cleaned: (297,)\n",
            "age         0\n",
            "sex         0\n",
            "cp          0\n",
            "trestbps    0\n",
            "chol        0\n",
            "fbs         0\n",
            "restecg     0\n",
            "thalach     0\n",
            "exang       0\n",
            "oldpeak     0\n",
            "slope       0\n",
            "ca          0\n",
            "thal        0\n",
            "dtype: int64\n"
          ]
        }
      ],
      "source": [
        "# Handling missing values (ex- by removing rows with missing data)\n",
        "\n",
        "# Since 'y' (targets) do not have missing values, they can be used as is\n",
        "# However, ensure that the rows in 'y' correspond to the rows in the cleaned 'X'\n",
        "\n",
        "# Check for missing values\n",
        "print(\"\\nMissing Values:\")\n",
        "print(X.isnull().sum())\n",
        "\n",
        "# find the index of the missing value\n",
        "missing_indices = X[(X['ca'].isnull()) | (X['thal'].isnull())].index\n",
        "\n",
        "X_cleaned = X.drop(missing_indices)\n",
        "y_cleaned = y_binary_series.drop(missing_indices)\n",
        "\n",
        "print(\"\\nShapes after cleaning:\")\n",
        "print(\"X_cleaned:\", X_cleaned.shape)\n",
        "print(\"y_cleaned:\", y_cleaned.shape)\n",
        "\n",
        "print(X_cleaned.isnull().sum())"
      ]
    },
    {
      "cell_type": "markdown",
      "metadata": {
        "id": "8MVch-0-owrH"
      },
      "source": [
        "Data preprocessing (Standardize the features, one-hot encoding, lable encoding)"
      ]
    },
    {
      "cell_type": "code",
      "execution_count": null,
      "metadata": {
        "id": "wShbdeiWomoY"
      },
      "outputs": [],
      "source": [
        "import pandas as pd\n",
        "from sklearn.preprocessing import StandardScaler, OneHotEncoder\n",
        "from sklearn.compose import ColumnTransformer\n"
      ]
    },
    {
      "cell_type": "code",
      "source": [
        "# One-hot Encoding\n",
        "\n",
        "# Categorical columns\n",
        "categorical_cols = ['cp','slope','restecg','thal']\n",
        "\n",
        "encoder = OneHotEncoder(sparse=False)\n",
        "encoded_data = encoder.fit_transform(X_cleaned[categorical_cols])\n",
        "\n",
        "encoded_df = pd.DataFrame(encoded_data, columns=encoder.get_feature_names_out(categorical_cols))\n",
        "\n",
        "\n",
        "# Align the index of the encoded data with X_cleaned\n",
        "encoded_df.index = X_cleaned.index\n",
        "\n",
        "X_combined = pd.concat([X_cleaned.drop(categorical_cols, axis=1), encoded_df], axis=1)\n",
        "\n",
        "\n",
        "print(\"X_combined:\", X_combined.shape)\n",
        "print(\"y__cleaned:\", y_cleaned.shape)"
      ],
      "metadata": {
        "colab": {
          "base_uri": "https://localhost:8080/"
        },
        "id": "45fdB5L6l6z-",
        "outputId": "db6a62a5-95e7-4cf0-a2a3-6615e2458bf2"
      },
      "execution_count": null,
      "outputs": [
        {
          "output_type": "stream",
          "name": "stdout",
          "text": [
            "X_combined: (297, 22)\n",
            "y__cleaned: (297,)\n"
          ]
        },
        {
          "output_type": "stream",
          "name": "stderr",
          "text": [
            "/usr/local/lib/python3.10/dist-packages/sklearn/preprocessing/_encoders.py:868: FutureWarning: `sparse` was renamed to `sparse_output` in version 1.2 and will be removed in 1.4. `sparse_output` is ignored unless you leave `sparse` to its default value.\n",
            "  warnings.warn(\n"
          ]
        }
      ]
    },
    {
      "cell_type": "code",
      "source": [
        "# Standardize fratures\n",
        "\n",
        "\n",
        "numerical_cols = ['age','trestbps','chol','thalach','oldpeak']\n",
        "\n",
        "scaler = StandardScaler()\n",
        "X_combined[numerical_cols] = scaler.fit_transform(X_combined[numerical_cols])\n",
        "\n",
        "# check\n",
        "print(\"Standardized means (should be close to 0):\", X_combined[numerical_cols].mean())\n",
        "print(\"Standardized standard deviations (should be close to 1):\", X_combined[numerical_cols].std())\n",
        "\n",
        "print(\"X_combined:\", X_combined.shape)\n",
        "print(\"y__cleaned:\", y_cleaned.shape)\n"
      ],
      "metadata": {
        "colab": {
          "base_uri": "https://localhost:8080/"
        },
        "id": "DszOdjBRl-VV",
        "outputId": "13fe2f92-422a-4f97-e912-85b16f54a234"
      },
      "execution_count": null,
      "outputs": [
        {
          "output_type": "stream",
          "name": "stdout",
          "text": [
            "Standardized means (should be close to 0): age        -1.226105e-16\n",
            "trestbps    4.904420e-16\n",
            "chol       -1.958777e-16\n",
            "thalach     4.784800e-16\n",
            "oldpeak     0.000000e+00\n",
            "dtype: float64\n",
            "Standardized standard deviations (should be close to 1): age         1.001688\n",
            "trestbps    1.001688\n",
            "chol        1.001688\n",
            "thalach     1.001688\n",
            "oldpeak     1.001688\n",
            "dtype: float64\n",
            "X_combined: (297, 22)\n",
            "y__cleaned: (297,)\n"
          ]
        }
      ]
    },
    {
      "cell_type": "markdown",
      "metadata": {
        "id": "6RSaaaHgr8Cd"
      },
      "source": [
        "Splitting training data into training and validation set (the code has been provided)"
      ]
    },
    {
      "cell_type": "code",
      "execution_count": null,
      "metadata": {
        "id": "3DzsHi6ir9IK"
      },
      "outputs": [],
      "source": [
        "from sklearn.model_selection import train_test_split\n",
        "X_train, X_val, y_train, y_val = train_test_split(X_combined, y_cleaned, test_size = 0.3, random_state=20)"
      ]
    },
    {
      "cell_type": "markdown",
      "metadata": {
        "id": "LXXOovbrsa2k"
      },
      "source": [
        "### Decision Tree\n",
        "From sklearn.tree use DecisionTreeClassifier to build a classification model with default parameters."
      ]
    },
    {
      "cell_type": "code",
      "execution_count": null,
      "metadata": {
        "id": "nqYXkEHDscGu",
        "colab": {
          "base_uri": "https://localhost:8080/",
          "height": 75
        },
        "outputId": "7ab14daf-a467-48be-f84a-a0a4998e4ac9"
      },
      "outputs": [
        {
          "output_type": "execute_result",
          "data": {
            "text/plain": [
              "DecisionTreeClassifier(random_state=30)"
            ],
            "text/html": [
              "<style>#sk-container-id-12 {color: black;background-color: white;}#sk-container-id-12 pre{padding: 0;}#sk-container-id-12 div.sk-toggleable {background-color: white;}#sk-container-id-12 label.sk-toggleable__label {cursor: pointer;display: block;width: 100%;margin-bottom: 0;padding: 0.3em;box-sizing: border-box;text-align: center;}#sk-container-id-12 label.sk-toggleable__label-arrow:before {content: \"▸\";float: left;margin-right: 0.25em;color: #696969;}#sk-container-id-12 label.sk-toggleable__label-arrow:hover:before {color: black;}#sk-container-id-12 div.sk-estimator:hover label.sk-toggleable__label-arrow:before {color: black;}#sk-container-id-12 div.sk-toggleable__content {max-height: 0;max-width: 0;overflow: hidden;text-align: left;background-color: #f0f8ff;}#sk-container-id-12 div.sk-toggleable__content pre {margin: 0.2em;color: black;border-radius: 0.25em;background-color: #f0f8ff;}#sk-container-id-12 input.sk-toggleable__control:checked~div.sk-toggleable__content {max-height: 200px;max-width: 100%;overflow: auto;}#sk-container-id-12 input.sk-toggleable__control:checked~label.sk-toggleable__label-arrow:before {content: \"▾\";}#sk-container-id-12 div.sk-estimator input.sk-toggleable__control:checked~label.sk-toggleable__label {background-color: #d4ebff;}#sk-container-id-12 div.sk-label input.sk-toggleable__control:checked~label.sk-toggleable__label {background-color: #d4ebff;}#sk-container-id-12 input.sk-hidden--visually {border: 0;clip: rect(1px 1px 1px 1px);clip: rect(1px, 1px, 1px, 1px);height: 1px;margin: -1px;overflow: hidden;padding: 0;position: absolute;width: 1px;}#sk-container-id-12 div.sk-estimator {font-family: monospace;background-color: #f0f8ff;border: 1px dotted black;border-radius: 0.25em;box-sizing: border-box;margin-bottom: 0.5em;}#sk-container-id-12 div.sk-estimator:hover {background-color: #d4ebff;}#sk-container-id-12 div.sk-parallel-item::after {content: \"\";width: 100%;border-bottom: 1px solid gray;flex-grow: 1;}#sk-container-id-12 div.sk-label:hover label.sk-toggleable__label {background-color: #d4ebff;}#sk-container-id-12 div.sk-serial::before {content: \"\";position: absolute;border-left: 1px solid gray;box-sizing: border-box;top: 0;bottom: 0;left: 50%;z-index: 0;}#sk-container-id-12 div.sk-serial {display: flex;flex-direction: column;align-items: center;background-color: white;padding-right: 0.2em;padding-left: 0.2em;position: relative;}#sk-container-id-12 div.sk-item {position: relative;z-index: 1;}#sk-container-id-12 div.sk-parallel {display: flex;align-items: stretch;justify-content: center;background-color: white;position: relative;}#sk-container-id-12 div.sk-item::before, #sk-container-id-12 div.sk-parallel-item::before {content: \"\";position: absolute;border-left: 1px solid gray;box-sizing: border-box;top: 0;bottom: 0;left: 50%;z-index: -1;}#sk-container-id-12 div.sk-parallel-item {display: flex;flex-direction: column;z-index: 1;position: relative;background-color: white;}#sk-container-id-12 div.sk-parallel-item:first-child::after {align-self: flex-end;width: 50%;}#sk-container-id-12 div.sk-parallel-item:last-child::after {align-self: flex-start;width: 50%;}#sk-container-id-12 div.sk-parallel-item:only-child::after {width: 0;}#sk-container-id-12 div.sk-dashed-wrapped {border: 1px dashed gray;margin: 0 0.4em 0.5em 0.4em;box-sizing: border-box;padding-bottom: 0.4em;background-color: white;}#sk-container-id-12 div.sk-label label {font-family: monospace;font-weight: bold;display: inline-block;line-height: 1.2em;}#sk-container-id-12 div.sk-label-container {text-align: center;}#sk-container-id-12 div.sk-container {/* jupyter's `normalize.less` sets `[hidden] { display: none; }` but bootstrap.min.css set `[hidden] { display: none !important; }` so we also need the `!important` here to be able to override the default hidden behavior on the sphinx rendered scikit-learn.org. See: https://github.com/scikit-learn/scikit-learn/issues/21755 */display: inline-block !important;position: relative;}#sk-container-id-12 div.sk-text-repr-fallback {display: none;}</style><div id=\"sk-container-id-12\" class=\"sk-top-container\"><div class=\"sk-text-repr-fallback\"><pre>DecisionTreeClassifier(random_state=30)</pre><b>In a Jupyter environment, please rerun this cell to show the HTML representation or trust the notebook. <br />On GitHub, the HTML representation is unable to render, please try loading this page with nbviewer.org.</b></div><div class=\"sk-container\" hidden><div class=\"sk-item\"><div class=\"sk-estimator sk-toggleable\"><input class=\"sk-toggleable__control sk-hidden--visually\" id=\"sk-estimator-id-22\" type=\"checkbox\" checked><label for=\"sk-estimator-id-22\" class=\"sk-toggleable__label sk-toggleable__label-arrow\">DecisionTreeClassifier</label><div class=\"sk-toggleable__content\"><pre>DecisionTreeClassifier(random_state=30)</pre></div></div></div></div></div>"
            ]
          },
          "metadata": {},
          "execution_count": 109
        }
      ],
      "source": [
        "from sklearn.tree import DecisionTreeClassifier\n",
        "### Fit the classifier on the training data\n",
        "# Please set random_state=30\n",
        "### WRITE CODE HERE ###\n",
        "dt_classifier = DecisionTreeClassifier(random_state = 30)\n",
        "dt_classifier.fit(X_train, y_train)"
      ]
    },
    {
      "cell_type": "code",
      "execution_count": null,
      "metadata": {
        "id": "g1z_pShQtcUX",
        "colab": {
          "base_uri": "https://localhost:8080/"
        },
        "outputId": "419c0d8c-d277-4e3e-819b-549f57c2b669"
      },
      "outputs": [
        {
          "output_type": "stream",
          "name": "stdout",
          "text": [
            "[0 0 1 1 0 1 0 0 1 0 0 1 0 0 0 1 1 0 1 0 1 1 1 0 0 1 1 1 1 1 0 1 1 1 1 0 1\n",
            " 0 0 0 0 0 1 0 1 1 0 0 1 1 0 0 1 0 1 1 0 1 1 0 1 1 1 0 1 1 0 0 1 1 1 1 1 0\n",
            " 1 0 1 0 1 0 1 0 0 0 1 0 0 1 1 0 0 0 0 1 0 0 0 1 0 1 0 0 1 0 1 1 0 1 1 1 1\n",
            " 1 1 0 1 1 0 0 0 1 0 1 0 0 1 0 1 1 0 0 0 1 1 0 0 1 0 0 0 1 1 0 0 1 0 1 0 0\n",
            " 1 0 0 0 0 1 0 0 0 0 0 0 1 1 1 0 0 1 1 0 0 0 0 0 0 0 0 1 1 1 0 1 0 1 1 1 1\n",
            " 0 0 1 0 1 1 1 1 0 0 0 0 0 1 1 1 0 1 1 0 0 0]\n"
          ]
        }
      ],
      "source": [
        "### Make predictions on the training data\n",
        "\n",
        "### WRITE CODE HERE ###\n",
        "y_pred_train = dt_classifier.predict(X_train)\n",
        "print(y_pred_train)"
      ]
    },
    {
      "cell_type": "markdown",
      "metadata": {
        "id": "kPp2cIUMuS4p"
      },
      "source": [
        "Print accuracy, precision and recall for the predictions made on the training data."
      ]
    },
    {
      "cell_type": "code",
      "execution_count": null,
      "metadata": {
        "id": "CpqQd8W0ayP_",
        "colab": {
          "base_uri": "https://localhost:8080/"
        },
        "outputId": "66011e9c-208f-4b80-db8b-5913075a3a00"
      },
      "outputs": [
        {
          "output_type": "stream",
          "name": "stdout",
          "text": [
            "Accuracy on Training Data: 1.0\n",
            "Precision on Training Data: 1.0\n",
            "Recall on Training Data: 1.0\n"
          ]
        }
      ],
      "source": [
        "# Print accuracy, precision and recall for the predictions made on the training data.\n",
        "\n",
        "from sklearn.metrics import accuracy_score, precision_score, recall_score\n",
        "\n",
        "accuracy_train = accuracy_score(y_train, y_pred_train)\n",
        "\n",
        "precision_train = precision_score(y_train, y_pred_train)\n",
        "\n",
        "recall_train = recall_score(y_train, y_pred_train)\n",
        "\n",
        "print(\"Accuracy on Training Data:\", accuracy_train)\n",
        "print(\"Precision on Training Data:\", precision_train)\n",
        "print(\"Recall on Training Data:\", recall_train)"
      ]
    },
    {
      "cell_type": "code",
      "execution_count": null,
      "metadata": {
        "id": "QHx99fcqvA9R",
        "colab": {
          "base_uri": "https://localhost:8080/"
        },
        "outputId": "2fe1fd5d-9822-41e6-8db3-00321b199074"
      },
      "outputs": [
        {
          "output_type": "stream",
          "name": "stdout",
          "text": [
            "[0 1 1 0 0 0 0 0 0 0 1 1 0 1 0 0 0 0 1 0 1 0 1 1 0 0 1 0 1 0 0 0 0 1 0 0 0\n",
            " 0 1 0 1 1 1 0 1 1 0 0 1 1 0 0 0 1 1 1 0 1 0 0 1 1 1 1 1 1 0 1 0 0 0 1 1 0\n",
            " 0 1 0 1 1 1 1 0 1 1 0 0 0 1 1 1]\n"
          ]
        }
      ],
      "source": [
        "### Make predictions on the validation data\n",
        "### WRITE CODE HERE ###\n",
        "y_pred = dt_classifier.predict(X_val)\n",
        "print(y_pred)\n"
      ]
    },
    {
      "cell_type": "markdown",
      "metadata": {
        "id": "-77rKnkXvTs0"
      },
      "source": [
        "Print accuracy, prediction and recall for the predictions made on the validation data."
      ]
    },
    {
      "cell_type": "code",
      "execution_count": null,
      "metadata": {
        "id": "2e_HZneYva4d",
        "colab": {
          "base_uri": "https://localhost:8080/"
        },
        "outputId": "e0a18ed6-dec2-47a6-d584-7840ea529d06"
      },
      "outputs": [
        {
          "output_type": "stream",
          "name": "stdout",
          "text": [
            "Accuracy on Training Data: 0.7\n",
            "Precision on Training Data: 0.627906976744186\n",
            "Recall on Training Data: 0.7105263157894737\n"
          ]
        }
      ],
      "source": [
        "### WRITE CODE HERE ###\n",
        "accuracy_train = accuracy_score(y_val, y_pred)\n",
        "\n",
        "precision_train = precision_score(y_val, y_pred)\n",
        "\n",
        "recall_train = recall_score(y_val, y_pred)\n",
        "\n",
        "print(\"Accuracy on Training Data:\", accuracy_train)\n",
        "print(\"Precision on Training Data:\", precision_train)\n",
        "print(\"Recall on Training Data:\", recall_train)\n"
      ]
    },
    {
      "cell_type": "markdown",
      "metadata": {
        "id": "xwIDnQCmvvqj"
      },
      "source": [
        "Plot ROC curve and obtain AUC for predictions on the validation data."
      ]
    },
    {
      "cell_type": "code",
      "execution_count": null,
      "metadata": {
        "id": "L9ZqUWdXv7D5",
        "colab": {
          "base_uri": "https://localhost:8080/",
          "height": 472
        },
        "outputId": "1408d6d7-55cb-4a03-8238-e5512ed31bca"
      },
      "outputs": [
        {
          "output_type": "display_data",
          "data": {
            "text/plain": [
              "<Figure size 640x480 with 1 Axes>"
            ],
            "image/png": "[encoded data removed]"
          },
          "metadata": {}
        }
      ],
      "source": [
        "# Plot the ROC curve by giving appropriate names for title and axes.\n",
        "\n",
        "### WRITE CODE HERE\n",
        "\n",
        "from sklearn.metrics import roc_curve, auc, accuracy_score, precision_score, recall_score\n",
        "import matplotlib.pyplot as plt\n",
        "\n",
        "y_pred_proba = dt_classifier.predict_proba(X_val)[:, 1]\n",
        "\n",
        "# Compute ROC curve and ROC area\n",
        "fpr, tpr, thresholds = roc_curve(y_val, y_pred_proba)\n",
        "roc_auc = auc(fpr, tpr)\n",
        "\n",
        "# Plot ROC curve\n",
        "plt.figure()\n",
        "plt.plot(fpr, tpr, color='pink', lw=2, label='ROC curve (area = %0.2f)' % roc_auc)\n",
        "plt.plot([0, 1], [0, 1], color='black', lw=2, linestyle='--')\n",
        "plt.xlim([0.0, 1.0])\n",
        "plt.ylim([0.0, 1.05])\n",
        "plt.xlabel('False Positive Rate')\n",
        "plt.ylabel('True Positive Rate')\n",
        "plt.title('Receiver Operating Characteristic for Decision Tree')\n",
        "plt.legend(loc=\"lower right\")\n",
        "plt.show()"
      ]
    },
    {
      "cell_type": "markdown",
      "metadata": {
        "id": "EHY7zX-LwNA-"
      },
      "source": [
        "Q. Based on the scores for training set and validation set, explain the performance of the above model in terms of bias and variance.<br>\n",
        "\n",
        "Ans -\n",
        "\n",
        "*   For bias, it is low in this scenario because the model has a high accuracy on the training data of 1.0. The model's assumptions are quite fitting with the training data.\n",
        "*   For variance, it is high, as evidenced by the model's perfect scores on the training data but reduced performance on the test data. This indicates that the model is too sensitive to the noise of the training set and is not performing well on the test set, which is indicative of overfitting.\n",
        "\n"
      ]
    },
    {
      "cell_type": "markdown",
      "metadata": {
        "id": "Gn_lR52Hwb0V"
      },
      "source": [
        "### Random Forest\n",
        "\n",
        "\n",
        "Decision Trees have low predictive power compared to other methods due to high variance. Random Forest increases prediction power at the expense of decreased interpretability.\n",
        "\n",
        "\n",
        "From sklearn.ensemble use RandomForestClassifier to build a classification model with default parameters."
      ]
    },
    {
      "cell_type": "code",
      "execution_count": null,
      "metadata": {
        "id": "V11dWNRLwjfr",
        "colab": {
          "base_uri": "https://localhost:8080/",
          "height": 75
        },
        "outputId": "3c6a6768-a516-42b7-a68b-fc7667741856"
      },
      "outputs": [
        {
          "output_type": "execute_result",
          "data": {
            "text/plain": [
              "RandomForestClassifier(random_state=30)"
            ],
            "text/html": [
              "<style>#sk-container-id-17 {color: black;background-color: white;}#sk-container-id-17 pre{padding: 0;}#sk-container-id-17 div.sk-toggleable {background-color: white;}#sk-container-id-17 label.sk-toggleable__label {cursor: pointer;display: block;width: 100%;margin-bottom: 0;padding: 0.3em;box-sizing: border-box;text-align: center;}#sk-container-id-17 label.sk-toggleable__label-arrow:before {content: \"▸\";float: left;margin-right: 0.25em;color: #696969;}#sk-container-id-17 label.sk-toggleable__label-arrow:hover:before {color: black;}#sk-container-id-17 div.sk-estimator:hover label.sk-toggleable__label-arrow:before {color: black;}#sk-container-id-17 div.sk-toggleable__content {max-height: 0;max-width: 0;overflow: hidden;text-align: left;background-color: #f0f8ff;}#sk-container-id-17 div.sk-toggleable__content pre {margin: 0.2em;color: black;border-radius: 0.25em;background-color: #f0f8ff;}#sk-container-id-17 input.sk-toggleable__control:checked~div.sk-toggleable__content {max-height: 200px;max-width: 100%;overflow: auto;}#sk-container-id-17 input.sk-toggleable__control:checked~label.sk-toggleable__label-arrow:before {content: \"▾\";}#sk-container-id-17 div.sk-estimator input.sk-toggleable__control:checked~label.sk-toggleable__label {background-color: #d4ebff;}#sk-container-id-17 div.sk-label input.sk-toggleable__control:checked~label.sk-toggleable__label {background-color: #d4ebff;}#sk-container-id-17 input.sk-hidden--visually {border: 0;clip: rect(1px 1px 1px 1px);clip: rect(1px, 1px, 1px, 1px);height: 1px;margin: -1px;overflow: hidden;padding: 0;position: absolute;width: 1px;}#sk-container-id-17 div.sk-estimator {font-family: monospace;background-color: #f0f8ff;border: 1px dotted black;border-radius: 0.25em;box-sizing: border-box;margin-bottom: 0.5em;}#sk-container-id-17 div.sk-estimator:hover {background-color: #d4ebff;}#sk-container-id-17 div.sk-parallel-item::after {content: \"\";width: 100%;border-bottom: 1px solid gray;flex-grow: 1;}#sk-container-id-17 div.sk-label:hover label.sk-toggleable__label {background-color: #d4ebff;}#sk-container-id-17 div.sk-serial::before {content: \"\";position: absolute;border-left: 1px solid gray;box-sizing: border-box;top: 0;bottom: 0;left: 50%;z-index: 0;}#sk-container-id-17 div.sk-serial {display: flex;flex-direction: column;align-items: center;background-color: white;padding-right: 0.2em;padding-left: 0.2em;position: relative;}#sk-container-id-17 div.sk-item {position: relative;z-index: 1;}#sk-container-id-17 div.sk-parallel {display: flex;align-items: stretch;justify-content: center;background-color: white;position: relative;}#sk-container-id-17 div.sk-item::before, #sk-container-id-17 div.sk-parallel-item::before {content: \"\";position: absolute;border-left: 1px solid gray;box-sizing: border-box;top: 0;bottom: 0;left: 50%;z-index: -1;}#sk-container-id-17 div.sk-parallel-item {display: flex;flex-direction: column;z-index: 1;position: relative;background-color: white;}#sk-container-id-17 div.sk-parallel-item:first-child::after {align-self: flex-end;width: 50%;}#sk-container-id-17 div.sk-parallel-item:last-child::after {align-self: flex-start;width: 50%;}#sk-container-id-17 div.sk-parallel-item:only-child::after {width: 0;}#sk-container-id-17 div.sk-dashed-wrapped {border: 1px dashed gray;margin: 0 0.4em 0.5em 0.4em;box-sizing: border-box;padding-bottom: 0.4em;background-color: white;}#sk-container-id-17 div.sk-label label {font-family: monospace;font-weight: bold;display: inline-block;line-height: 1.2em;}#sk-container-id-17 div.sk-label-container {text-align: center;}#sk-container-id-17 div.sk-container {/* jupyter's `normalize.less` sets `[hidden] { display: none; }` but bootstrap.min.css set `[hidden] { display: none !important; }` so we also need the `!important` here to be able to override the default hidden behavior on the sphinx rendered scikit-learn.org. See: https://github.com/scikit-learn/scikit-learn/issues/21755 */display: inline-block !important;position: relative;}#sk-container-id-17 div.sk-text-repr-fallback {display: none;}</style><div id=\"sk-container-id-17\" class=\"sk-top-container\"><div class=\"sk-text-repr-fallback\"><pre>RandomForestClassifier(random_state=30)</pre><b>In a Jupyter environment, please rerun this cell to show the HTML representation or trust the notebook. <br />On GitHub, the HTML representation is unable to render, please try loading this page with nbviewer.org.</b></div><div class=\"sk-container\" hidden><div class=\"sk-item\"><div class=\"sk-estimator sk-toggleable\"><input class=\"sk-toggleable__control sk-hidden--visually\" id=\"sk-estimator-id-33\" type=\"checkbox\" checked><label for=\"sk-estimator-id-33\" class=\"sk-toggleable__label sk-toggleable__label-arrow\">RandomForestClassifier</label><div class=\"sk-toggleable__content\"><pre>RandomForestClassifier(random_state=30)</pre></div></div></div></div></div>"
            ]
          },
          "metadata": {},
          "execution_count": 150
        }
      ],
      "source": [
        "from sklearn.ensemble import RandomForestClassifier\n",
        "### Fit the classifier on the training data\n",
        "# Please set random_state=30\n",
        "### WRITE CODE HERE ###\n",
        "\n",
        "classifier = RandomForestClassifier(random_state=30)\n",
        "\n",
        "# Fit the classifier on the training data\n",
        "classifier.fit(X_train, y_train)"
      ]
    },
    {
      "cell_type": "code",
      "execution_count": null,
      "metadata": {
        "id": "xYomCX4nw1yq"
      },
      "outputs": [],
      "source": [
        "### Make predictions on the training data\n",
        "### WRITE CODE HERE ###\n",
        "y_pred = classifier.predict(X_train)\n"
      ]
    },
    {
      "cell_type": "markdown",
      "metadata": {
        "id": "Q3wmGe-G1O4h"
      },
      "source": [
        "Print accuracy, precision and recall for the predictions made on the training data."
      ]
    },
    {
      "cell_type": "code",
      "execution_count": null,
      "metadata": {
        "id": "l_OUtD0Tbu0K",
        "colab": {
          "base_uri": "https://localhost:8080/"
        },
        "outputId": "cdcc3b2b-811c-4028-f43e-b2d19975b682"
      },
      "outputs": [
        {
          "output_type": "stream",
          "name": "stdout",
          "text": [
            "Accuracy: 1.0\n",
            "Precision: 1.0\n",
            "Recall: 1.0\n"
          ]
        }
      ],
      "source": [
        "from sklearn.metrics import accuracy_score, precision_score, recall_score\n",
        "\n",
        "# Assuming you have made predictions and obtained 'y_pred' for the training data\n",
        "# Assuming your true target variable for the training data is 'y_cleaned'\n",
        "\n",
        "# Calculate accuracy\n",
        "accuracy = accuracy_score(y_train, y_pred)\n",
        "\n",
        "# Calculate precision\n",
        "precision = precision_score(y_train, y_pred)\n",
        "\n",
        "# Calculate recall\n",
        "recall = recall_score(y_train, y_pred)\n",
        "\n",
        "# Print the results\n",
        "print(\"Accuracy:\", accuracy)\n",
        "print(\"Precision:\", precision)\n",
        "print(\"Recall:\", recall)"
      ]
    },
    {
      "cell_type": "code",
      "execution_count": null,
      "metadata": {
        "id": "k9WwHw3S1qvG"
      },
      "outputs": [],
      "source": [
        "### Make predictions on the validation data\n",
        "y_val_pred = classifier.predict(X_val)\n",
        "### WRITE CODE HERE ###"
      ]
    },
    {
      "cell_type": "markdown",
      "metadata": {
        "id": "Uq399RNb1tBH"
      },
      "source": [
        "Print accuracy, prediction and recall for the predictions made on the validation data."
      ]
    },
    {
      "cell_type": "code",
      "execution_count": null,
      "metadata": {
        "id": "1eDc8z5H1y8i",
        "colab": {
          "base_uri": "https://localhost:8080/"
        },
        "outputId": "f926f44b-bf12-4df2-eba7-6e9647950c6d"
      },
      "outputs": [
        {
          "output_type": "stream",
          "name": "stdout",
          "text": [
            "Accuracy: 0.8444444444444444\n",
            "Precision: 0.8\n",
            "Recall: 0.8421052631578947\n"
          ]
        }
      ],
      "source": [
        "### WRITE CODE HERE ###\n",
        "accuracy = accuracy_score(y_val, y_val_pred)\n",
        "\n",
        "# Calculate precision\n",
        "precision = precision_score(y_val, y_val_pred)\n",
        "\n",
        "# Calculate recall\n",
        "recall = recall_score(y_val, y_val_pred)\n",
        "\n",
        "# Print the results\n",
        "print(\"Accuracy:\", accuracy)\n",
        "print(\"Precision:\", precision)\n",
        "print(\"Recall:\", recall)\n"
      ]
    },
    {
      "cell_type": "markdown",
      "metadata": {
        "id": "5-aEzhnY31GG"
      },
      "source": [
        "Plot ROC curve and obtain AUC for the validation predictions"
      ]
    },
    {
      "cell_type": "code",
      "execution_count": null,
      "metadata": {
        "id": "YBtxdmDa33fJ",
        "colab": {
          "base_uri": "https://localhost:8080/",
          "height": 472
        },
        "outputId": "60776c7a-9038-4e33-a6c0-b6c350faf58e"
      },
      "outputs": [
        {
          "output_type": "display_data",
          "data": {
            "text/plain": [
              "<Figure size 640x480 with 1 Axes>"
            ],
            "image/png": "[encoded data removed]"
          },
          "metadata": {}
        }
      ],
      "source": [
        "from sklearn.metrics import roc_curve, auc, accuracy_score, precision_score, recall_score\n",
        "import matplotlib.pyplot as plt\n",
        "\n",
        "y_val_pred=classifier.predict_proba(X_val)[:,1]\n",
        "# Compute ROC curve and ROC area\n",
        "fpr, tpr, thresholds = roc_curve(y_val, y_val_pred,pos_label=1)\n",
        "roc_auc = auc(fpr, tpr)\n",
        "\n",
        "# Plot ROC curve\n",
        "plt.figure()\n",
        "plt.plot(fpr, tpr, lw=2, label='ROC curve (area = %0.2f)' % roc_auc)\n",
        "plt.plot([0, 1], [0, 1], color='black', lw=2, linestyle='--')\n",
        "plt.xlim([0.0, 1.0])\n",
        "plt.ylim([0.0, 1.05])\n",
        "plt.xlabel('False Positive Rate')\n",
        "plt.ylabel('True Positive Rate')\n",
        "plt.title('Receiver Operating Characteristic for Random forest')\n",
        "plt.legend(loc=\"lower right\")\n",
        "plt.show()"
      ]
    },
    {
      "cell_type": "markdown",
      "metadata": {
        "id": "fcld7NGV4GU_"
      },
      "source": [
        "Q. Based on the scores for training set and validation set, explain the performance of the above model in terms of bias and variance. Is the Random Forest model better or worse than the Decision Tree model? Explain why you think the performance may have improved or deteriorated.\n",
        "\n",
        "Ans-\n",
        "**Decision tree score:**\n",
        "Accuracy: 0.7\n",
        "Accuracy: 0.628\n",
        "Recall: 0.711\n",
        "\n",
        "**Random forest score:**\n",
        "Accuracy: 0.844\n",
        "Accuracy: 0.8\n",
        "Recall rate: 0.842\n",
        "\n",
        "**Bias**: Refers to the model being too simple.\n",
        "**Variance**: Refers to the model being too complex.\n",
        "A good model needs to strike a balance between the two.\n",
        "\n",
        "**Decision tree analysis:**\n",
        "A lower score in the decision tree indicates that it may be too simplistic, resulting in high bias. This means that it cannot effectively capture all patterns in the data.\n",
        "\n",
        "**Random forest analysis:**\n",
        "Random Forest shows higher scores in all metrics. This model is potentially better because it combines multiple decision trees, which helps capture more patterns in the data and focus less on specific, potentially misleading data points.\n",
        "\n",
        "**Random Forest is Better**:\n",
        "Random forest is more effective because it balances the simplicity of a single tree with the complexity of multiple views. This is similar to getting a more complete and accurate opinion by consulting a group of experts rather than relying on just one.Overall, random forest models performs better than decision trees. It achieves a better balance in understanding the data and avoids the pitfalls of being too simple or too complex."
      ]
    },
    {
      "cell_type": "markdown",
      "metadata": {
        "id": "IY8Pzi-B4WAz"
      },
      "source": [
        "## Hyperparameters\n",
        "\n",
        "\"Model tuning\" refers to model adjustments to better fit the data, which is separate from \"fitting\" or \"training\" the model.\n",
        "\n",
        "There are aspects of some models that are user specified. For example, when using a random forest (which is basically an ensemble of decision trees), it is probably a good idea to choose the right number of underlying trees. Too many and the model might overfit, and too few and the model might not be able to properly learn the data. Parameters such as these are referred to as \"hyperparameters\" or \"free parameters\", as the values for these are determined by the user and not the algorithm.\n",
        "\n",
        "A quick and efficient way to optimize hyperparameters is to perform Grid Search over different values of the parameters."
      ]
    },
    {
      "cell_type": "code",
      "execution_count": null,
      "metadata": {
        "id": "vH6HzdEB5JLP"
      },
      "outputs": [],
      "source": [
        "from sklearn.model_selection import GridSearchCV"
      ]
    },
    {
      "cell_type": "code",
      "execution_count": null,
      "metadata": {
        "id": "9qQPsqjm5Mfb"
      },
      "outputs": [],
      "source": [
        "# In the below dictionary, fill in the list of values that you want to try out for each parameter\n",
        "# Refer to the descriptions in sklearn.ensemble.RandomForestClassifier's doc to understand what the parameters depict\n",
        "\n",
        "param_grid = {\n",
        "    'max_depth': [None, 5, 10, 20],\n",
        "    'max_features': [None, \"log2\", \"sqrt\"],\n",
        "    'min_samples_leaf': [1, 2, 4],\n",
        "    'min_samples_split': [2, 5, 10],\n",
        "    'n_estimators': [50, 100, 200]\n",
        "}"
      ]
    },
    {
      "cell_type": "code",
      "execution_count": null,
      "metadata": {
        "id": "8bIILs6ZdKzk"
      },
      "outputs": [],
      "source": [
        "rf = RandomForestClassifier(random_state=30)"
      ]
    },
    {
      "cell_type": "code",
      "execution_count": null,
      "metadata": {
        "id": "pwKYkjAM510B"
      },
      "outputs": [],
      "source": [
        "grid_search = GridSearchCV(estimator = rf, scoring='recall', param_grid = param_grid,\n",
        "                          cv = 3, n_jobs = -1, verbose = 2)"
      ]
    },
    {
      "cell_type": "code",
      "execution_count": null,
      "metadata": {
        "id": "adfXnU4qBuKj",
        "colab": {
          "base_uri": "https://localhost:8080/",
          "height": 136
        },
        "outputId": "9b989826-c43d-4664-8461-af314f3a07c6"
      },
      "outputs": [
        {
          "output_type": "stream",
          "name": "stdout",
          "text": [
            "Fitting 3 folds for each of 324 candidates, totalling 972 fits\n"
          ]
        },
        {
          "output_type": "execute_result",
          "data": {
            "text/plain": [
              "GridSearchCV(cv=3, estimator=RandomForestClassifier(random_state=30), n_jobs=-1,\n",
              "             param_grid={'max_depth': [None, 5, 10, 20],\n",
              "                         'max_features': [None, 'log2', 'sqrt'],\n",
              "                         'min_samples_leaf': [1, 2, 4],\n",
              "                         'min_samples_split': [2, 5, 10],\n",
              "                         'n_estimators': [50, 100, 200]},\n",
              "             scoring='recall', verbose=2)"
            ],
            "text/html": [
              "<style>#sk-container-id-18 {color: black;background-color: white;}#sk-container-id-18 pre{padding: 0;}#sk-container-id-18 div.sk-toggleable {background-color: white;}#sk-container-id-18 label.sk-toggleable__label {cursor: pointer;display: block;width: 100%;margin-bottom: 0;padding: 0.3em;box-sizing: border-box;text-align: center;}#sk-container-id-18 label.sk-toggleable__label-arrow:before {content: \"▸\";float: left;margin-right: 0.25em;color: #696969;}#sk-container-id-18 label.sk-toggleable__label-arrow:hover:before {color: black;}#sk-container-id-18 div.sk-estimator:hover label.sk-toggleable__label-arrow:before {color: black;}#sk-container-id-18 div.sk-toggleable__content {max-height: 0;max-width: 0;overflow: hidden;text-align: left;background-color: #f0f8ff;}#sk-container-id-18 div.sk-toggleable__content pre {margin: 0.2em;color: black;border-radius: 0.25em;background-color: #f0f8ff;}#sk-container-id-18 input.sk-toggleable__control:checked~div.sk-toggleable__content {max-height: 200px;max-width: 100%;overflow: auto;}#sk-container-id-18 input.sk-toggleable__control:checked~label.sk-toggleable__label-arrow:before {content: \"▾\";}#sk-container-id-18 div.sk-estimator input.sk-toggleable__control:checked~label.sk-toggleable__label {background-color: #d4ebff;}#sk-container-id-18 div.sk-label input.sk-toggleable__control:checked~label.sk-toggleable__label {background-color: #d4ebff;}#sk-container-id-18 input.sk-hidden--visually {border: 0;clip: rect(1px 1px 1px 1px);clip: rect(1px, 1px, 1px, 1px);height: 1px;margin: -1px;overflow: hidden;padding: 0;position: absolute;width: 1px;}#sk-container-id-18 div.sk-estimator {font-family: monospace;background-color: #f0f8ff;border: 1px dotted black;border-radius: 0.25em;box-sizing: border-box;margin-bottom: 0.5em;}#sk-container-id-18 div.sk-estimator:hover {background-color: #d4ebff;}#sk-container-id-18 div.sk-parallel-item::after {content: \"\";width: 100%;border-bottom: 1px solid gray;flex-grow: 1;}#sk-container-id-18 div.sk-label:hover label.sk-toggleable__label {background-color: #d4ebff;}#sk-container-id-18 div.sk-serial::before {content: \"\";position: absolute;border-left: 1px solid gray;box-sizing: border-box;top: 0;bottom: 0;left: 50%;z-index: 0;}#sk-container-id-18 div.sk-serial {display: flex;flex-direction: column;align-items: center;background-color: white;padding-right: 0.2em;padding-left: 0.2em;position: relative;}#sk-container-id-18 div.sk-item {position: relative;z-index: 1;}#sk-container-id-18 div.sk-parallel {display: flex;align-items: stretch;justify-content: center;background-color: white;position: relative;}#sk-container-id-18 div.sk-item::before, #sk-container-id-18 div.sk-parallel-item::before {content: \"\";position: absolute;border-left: 1px solid gray;box-sizing: border-box;top: 0;bottom: 0;left: 50%;z-index: -1;}#sk-container-id-18 div.sk-parallel-item {display: flex;flex-direction: column;z-index: 1;position: relative;background-color: white;}#sk-container-id-18 div.sk-parallel-item:first-child::after {align-self: flex-end;width: 50%;}#sk-container-id-18 div.sk-parallel-item:last-child::after {align-self: flex-start;width: 50%;}#sk-container-id-18 div.sk-parallel-item:only-child::after {width: 0;}#sk-container-id-18 div.sk-dashed-wrapped {border: 1px dashed gray;margin: 0 0.4em 0.5em 0.4em;box-sizing: border-box;padding-bottom: 0.4em;background-color: white;}#sk-container-id-18 div.sk-label label {font-family: monospace;font-weight: bold;display: inline-block;line-height: 1.2em;}#sk-container-id-18 div.sk-label-container {text-align: center;}#sk-container-id-18 div.sk-container {/* jupyter's `normalize.less` sets `[hidden] { display: none; }` but bootstrap.min.css set `[hidden] { display: none !important; }` so we also need the `!important` here to be able to override the default hidden behavior on the sphinx rendered scikit-learn.org. See: https://github.com/scikit-learn/scikit-learn/issues/21755 */display: inline-block !important;position: relative;}#sk-container-id-18 div.sk-text-repr-fallback {display: none;}</style><div id=\"sk-container-id-18\" class=\"sk-top-container\"><div class=\"sk-text-repr-fallback\"><pre>GridSearchCV(cv=3, estimator=RandomForestClassifier(random_state=30), n_jobs=-1,\n",
              "             param_grid={&#x27;max_depth&#x27;: [None, 5, 10, 20],\n",
              "                         &#x27;max_features&#x27;: [None, &#x27;log2&#x27;, &#x27;sqrt&#x27;],\n",
              "                         &#x27;min_samples_leaf&#x27;: [1, 2, 4],\n",
              "                         &#x27;min_samples_split&#x27;: [2, 5, 10],\n",
              "                         &#x27;n_estimators&#x27;: [50, 100, 200]},\n",
              "             scoring=&#x27;recall&#x27;, verbose=2)</pre><b>In a Jupyter environment, please rerun this cell to show the HTML representation or trust the notebook. <br />On GitHub, the HTML representation is unable to render, please try loading this page with nbviewer.org.</b></div><div class=\"sk-container\" hidden><div class=\"sk-item sk-dashed-wrapped\"><div class=\"sk-label-container\"><div class=\"sk-label sk-toggleable\"><input class=\"sk-toggleable__control sk-hidden--visually\" id=\"sk-estimator-id-34\" type=\"checkbox\" ><label for=\"sk-estimator-id-34\" class=\"sk-toggleable__label sk-toggleable__label-arrow\">GridSearchCV</label><div class=\"sk-toggleable__content\"><pre>GridSearchCV(cv=3, estimator=RandomForestClassifier(random_state=30), n_jobs=-1,\n",
              "             param_grid={&#x27;max_depth&#x27;: [None, 5, 10, 20],\n",
              "                         &#x27;max_features&#x27;: [None, &#x27;log2&#x27;, &#x27;sqrt&#x27;],\n",
              "                         &#x27;min_samples_leaf&#x27;: [1, 2, 4],\n",
              "                         &#x27;min_samples_split&#x27;: [2, 5, 10],\n",
              "                         &#x27;n_estimators&#x27;: [50, 100, 200]},\n",
              "             scoring=&#x27;recall&#x27;, verbose=2)</pre></div></div></div><div class=\"sk-parallel\"><div class=\"sk-parallel-item\"><div class=\"sk-item\"><div class=\"sk-label-container\"><div class=\"sk-label sk-toggleable\"><input class=\"sk-toggleable__control sk-hidden--visually\" id=\"sk-estimator-id-35\" type=\"checkbox\" ><label for=\"sk-estimator-id-35\" class=\"sk-toggleable__label sk-toggleable__label-arrow\">estimator: RandomForestClassifier</label><div class=\"sk-toggleable__content\"><pre>RandomForestClassifier(random_state=30)</pre></div></div></div><div class=\"sk-serial\"><div class=\"sk-item\"><div class=\"sk-estimator sk-toggleable\"><input class=\"sk-toggleable__control sk-hidden--visually\" id=\"sk-estimator-id-36\" type=\"checkbox\" ><label for=\"sk-estimator-id-36\" class=\"sk-toggleable__label sk-toggleable__label-arrow\">RandomForestClassifier</label><div class=\"sk-toggleable__content\"><pre>RandomForestClassifier(random_state=30)</pre></div></div></div></div></div></div></div></div></div></div>"
            ]
          },
          "metadata": {},
          "execution_count": 161
        }
      ],
      "source": [
        "### Fit on the training data with all sets of parameters.\n",
        "### WRITE CODE HERE ###\n",
        "grid_search.fit(X_train, y_train)"
      ]
    },
    {
      "cell_type": "markdown",
      "metadata": {
        "id": "Ebakm868CRn0"
      },
      "source": [
        "Display the parameters of the best model."
      ]
    },
    {
      "cell_type": "code",
      "execution_count": null,
      "metadata": {
        "id": "1hXn1Bx3CMQG",
        "colab": {
          "base_uri": "https://localhost:8080/"
        },
        "outputId": "4f97563d-2755-47e2-85e8-3cf738d0ef29"
      },
      "outputs": [
        {
          "output_type": "stream",
          "name": "stdout",
          "text": [
            "Best parameters: {'max_depth': None, 'max_features': 'log2', 'min_samples_leaf': 1, 'min_samples_split': 2, 'n_estimators': 200}\n"
          ]
        }
      ],
      "source": [
        "# Print the best parameters\n",
        "### WRITE CODE HERE ###\n",
        "print(f'Best parameters: {grid_search.best_params_}')"
      ]
    },
    {
      "cell_type": "code",
      "execution_count": null,
      "metadata": {
        "id": "VFZfOfsZCXTD",
        "colab": {
          "base_uri": "https://localhost:8080/"
        },
        "outputId": "9d6f73df-d18b-44b7-a97b-5d03bf12eed0"
      },
      "outputs": [
        {
          "output_type": "stream",
          "name": "stdout",
          "text": [
            "Best score: 0.8181818181818182\n"
          ]
        }
      ],
      "source": [
        "# Print the best score\n",
        "print(f'Best score: {grid_search.best_score_}')"
      ]
    },
    {
      "cell_type": "code",
      "execution_count": null,
      "metadata": {
        "id": "xf-7OQJCCq56",
        "colab": {
          "base_uri": "https://localhost:8080/"
        },
        "outputId": "4e2bc1fd-7d35-4a4e-a310-a5a2e30c3cc7"
      },
      "outputs": [
        {
          "output_type": "stream",
          "name": "stdout",
          "text": [
            "Accuracy on Training Data: 1.0\n",
            "Precision on Training Data: 1.0\n",
            "Recall on Training Data: 1.0\n",
            "Accuracy on Validation Data: 0.8555555555555555\n",
            "Precision on Validation Data: 0.8048780487804879\n",
            "Recall on Validation Data: 0.868421052631579\n"
          ]
        }
      ],
      "source": [
        "### Using the best model, do the following:\n",
        "### Make predictions on the training set and display accuracy, precision and recall.\n",
        "### Make predictions on the validation set and display accuracy, precision and recall.\n",
        "\n",
        "### Using the best model, do the following:\n",
        "### Make predictions on the training set and display accuracy, precision and recall.\n",
        "### WRITE CODE HERE ###\n",
        "\n",
        "best_model = RandomForestClassifier(random_state=30, max_depth = None, max_features = 'log2', min_samples_leaf = 1, min_samples_split =\n",
        "                                    2, n_estimators = 200)\n",
        "best_model.fit(X_train, y_train)\n",
        "\n",
        "y_train_pred_best = best_model.predict(X_train)\n",
        "\n",
        "#Print accuracy score for training set\n",
        "accuracy_train_best = my_accuracy(y_train, y_train_pred_best)\n",
        "\n",
        "precision_train_best = my_precision(y_train, y_train_pred_best)\n",
        "\n",
        "recall_train_best = my_recall(y_train, y_train_pred_best)\n",
        "\n",
        "print(\"Accuracy on Training Data:\", accuracy_train_best)\n",
        "print(\"Precision on Training Data:\", precision_train_best)\n",
        "print(\"Recall on Training Data:\", recall_train_best)\n",
        "\n",
        "\n",
        "### Make predictions on the validation set and display accuracy, precision and recall.\n",
        "### WRITE CODE HERE ###\n",
        "y_val_pred_best = best_model.predict(X_val)\n",
        "\n",
        "#Print accuracy score for validation set\n",
        "accuracy_val_best = my_accuracy(y_val, y_val_pred_best)\n",
        "\n",
        "precision_val_best = my_precision(y_val, y_val_pred_best)\n",
        "\n",
        "recall_val_best = my_recall(y_val, y_val_pred_best)\n",
        "\n",
        "print(\"Accuracy on Validation Data:\", accuracy_val_best)\n",
        "print(\"Precision on Validation Data:\", precision_val_best)\n",
        "print(\"Recall on Validation Data:\", recall_val_best)"
      ]
    },
    {
      "cell_type": "code",
      "execution_count": null,
      "metadata": {
        "id": "M5m5sQo-GEbr",
        "colab": {
          "base_uri": "https://localhost:8080/",
          "height": 472
        },
        "outputId": "36407091-abce-41b9-aba3-980adf957977"
      },
      "outputs": [
        {
          "output_type": "display_data",
          "data": {
            "text/plain": [
              "<Figure size 640x480 with 1 Axes>"
            ],
            "image/png": "[encoded data removed]"
          },
          "metadata": {}
        }
      ],
      "source": [
        "# Plot the ROC curve on validation set by giving appropriate names for title and axes.\n",
        "\n",
        "### WRITE CODE HERE\n",
        "# Compute ROC curve and area\n",
        "fpr, tpr, thresholds = roc_curve(y_val, best_model.predict_proba(X_val)[:, 1])\n",
        "roc_auc_1 = auc(fpr, tpr)\n",
        "\n",
        "# Plot ROC curve\n",
        "plt.figure()\n",
        "plt.plot(fpr, tpr, lw=2, label='ROC curve (area = %0.2f)' % roc_auc_1)\n",
        "plt.plot([0, 1], [0, 1], color='black', lw=2, linestyle='--')\n",
        "plt.xlim([0.0, 1.0])\n",
        "plt.ylim([0.0, 1.05])\n",
        "plt.xlabel('FPR')\n",
        "plt.ylabel('TPR')\n",
        "plt.title('ROC for random forest with tuning')\n",
        "plt.legend(loc=\"lower right\")\n",
        "plt.show()\n"
      ]
    },
    {
      "cell_type": "markdown",
      "metadata": {
        "id": "cvd27HmbGX9h"
      },
      "source": [
        "### Individual student contribution"
      ]
    },
    {
      "cell_type": "markdown",
      "metadata": {
        "id": "fKg6KzDYpjOI"
      },
      "source": [
        "Student 1 Joy Lin - Dataset 1 Setup + Standardization and One-hot Encoding + Logistic Regression  </br>\n",
        "Student 2 Alex Beltchev - Dataset 1 Hyperparameters + Test set </br>\n",
        "Student 3 Lilian Chan - Dataset 2 Setup + Decision Tree </br>\n",
        "Student 4 Xinyu Zhang - Dataset 2 Random Forest </br>\n",
        "Student 5 Eric Jin - Dataset 2 Hyperparameters"
      ]
    }
  ],
  "metadata": {
    "colab": {
      "provenance": []
    },
    "kernelspec": {
      "display_name": "Python 3",
      "name": "python3"
    },
    "language_info": {
      "name": "python"
    }
  },
  "nbformat": 4,
  "nbformat_minor": 0
}
